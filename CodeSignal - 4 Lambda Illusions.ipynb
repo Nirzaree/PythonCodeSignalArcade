{
 "cells": [
  {
   "cell_type": "markdown",
   "metadata": {},
   "source": [
    "Lambda: \n",
    "A lambda is an anonymous function that:\n",
    "\n",
    "    Must be defined inline\n",
    "    Doesn’t have a name\n",
    "    Can’t contain statements\n",
    "    Will execute just like a function\n"
   ]
  },
  {
   "cell_type": "markdown",
   "metadata": {},
   "source": [
    "1. Repeat Char\n",
    "\n",
    "Implement the missing code, denoted by ellipses. You may not modify the pre-existing code.\n",
    "\n",
    "To make debug output more understandable, you often separate sets of logs by a single line of the same character. Since you use this method very often, you'd like to write a function that would handle printing the separator.\n",
    "\n",
    "Implement a function that, given a character ch and the number of times it should be repeated n, returns a string of n characters ch.\n",
    "\n",
    "Example\n",
    "\n",
    "For ch = '*' and n = 20, the output should be\n",
    "repeatChar(ch, n) = \"********************\"."
   ]
  },
  {
   "cell_type": "code",
   "execution_count": null,
   "metadata": {},
   "outputs": [],
   "source": [
    "repeatChar = lambda ch, n: ch * n"
   ]
  },
  {
   "cell_type": "markdown",
   "metadata": {},
   "source": [
    "2. Get Points\n"
   ]
  },
  {
   "cell_type": "markdown",
   "metadata": {},
   "source": [
    "Implement the missing code, denoted by ellipses. You may not modify the pre-existing code.\n",
    "\n",
    "A new scoring system was introduced in your university: from now on, each test will consist of the predefined list of questions, and for the ith (1-based) question a student either gets i points, or loses p points as a penalty.\n",
    "\n",
    "Your task is to calculate the number of points a student got for some test. Implement a function that would calculate the number of points received for the test based on the given list of answers.\n",
    "\n",
    "Example\n",
    "\n",
    "For answers = [true, true, false, true]and p = 2, the output should be\n",
    "getPoints(answers, p) = 5.\n",
    "\n",
    "Here's why: 1 + 2 - 2 + 4 = 5.\n",
    "\n",
    "Input/Output\n",
    "\n",
    "    [execution time limit] 4 seconds (py3)\n",
    "\n",
    "    [input] array.boolean answers\n",
    "\n",
    "    Array of student's answers. answers[i] is true if the student answered the (i + 1)th question correctly, and false otherwise.\n",
    "\n",
    "    Guaranteed constraints:\n",
    "    1 ≤ answers.length ≤ 20.\n",
    "\n",
    "    [input] integer p\n",
    "\n",
    "    The number of points subtracted from the final score for each incorrect result.\n",
    "\n",
    "    Guaranteed constraints:\n",
    "    0 ≤ p ≤ 10.\n",
    "\n",
    "    [output] integer\n",
    "\n",
    "    The number of points the student received for the test.\n",
    "    \n",
    "    def getPoints(answers, p):\n",
    "    questionPoints = ...\n",
    "\n",
    "    res = 0\n",
    "    for i, ans in enumerate(answers):\n",
    "        res += questionPoints(i, ans)\n",
    "    return res\n",
    "\n"
   ]
  },
  {
   "cell_type": "code",
   "execution_count": 27,
   "metadata": {},
   "outputs": [
    {
     "name": "stdout",
     "output_type": "stream",
     "text": [
      "0 True\n",
      "1 True\n",
      "2 False\n",
      "3 True\n"
     ]
    }
   ],
   "source": [
    "#enumerate list\n",
    "\n",
    "answers = [True,True,False,True]\n",
    "for index,item in enumerate(answers):\n",
    "    print(index,item)"
   ]
  },
  {
   "cell_type": "code",
   "execution_count": 20,
   "metadata": {},
   "outputs": [
    {
     "data": {
      "text/plain": [
       "5"
      ]
     },
     "execution_count": 20,
     "metadata": {},
     "output_type": "execute_result"
    }
   ],
   "source": [
    "def getPoints(answers, p):\n",
    "    questionPoints = lambda i,ans: ((i+1) * (ans) - p*(not(ans)))\n",
    "    res = 0\n",
    "    for i, ans in enumerate(answers):\n",
    "        res += questionPoints(i, ans)\n",
    "    return res\n",
    "\n",
    "getPoints([True, True, False, True],2)"
   ]
  },
  {
   "cell_type": "markdown",
   "metadata": {},
   "source": [
    "Sort Students"
   ]
  },
  {
   "cell_type": "markdown",
   "metadata": {},
   "source": [
    "Implement the missing code, denoted by ellipses. You may not modify the pre-existing code.\n",
    "\n",
    "You are given a list of students who want to apply to the internship at CodeSignal. For the ith student you know their full name students[i], which can consist of up to 5 words (where a word is a set of consecutive letters). It is guaranteed that the surname is always the last name of student's full name.\n",
    "\n",
    "Your task is to sort the students lexicographically by their surnames. If two students happen to have the same surname, their order in the result should be the same as in the original list.\n",
    "\n",
    "Example\n",
    "\n",
    "For\n",
    "\n",
    "students = [\"John Smith\", \"Jacky Mon Simonoff\", \n",
    "            \"Lucy Smith\", \"Angela Zimonova\"]\n",
    "\n",
    "the output should be\n",
    "\n",
    "sortStudents(students) = [\"Jacky Mon Simonoff\", \"John Smith\", \n",
    "                          \"Lucy Smith\", \"Angela Zimonova\"]\n",
    "\n",
    "Input/Output\n",
    "\n",
    "    [execution time limit] 4 seconds (py3)\n",
    "\n",
    "    [input] array.string students\n",
    "\n",
    "    Array of students, where each student is given by their full name consisting of at most 5 words. For each i students[i] consists of English letters and whitespace (' ') characters.\n",
    "\n",
    "    Guaranteed constraints:\n",
    "    1 ≤ students.length ≤ 30,\n",
    "    1 ≤ students[i].length ≤ 50.\n",
    "\n",
    "    [output] array.string\n",
    "\n",
    "    Array of students sorted as described above.\n"
   ]
  },
  {
   "cell_type": "markdown",
   "metadata": {},
   "source": [
    "Good resource on string sort: https://realpython.com/python-sort/\n",
    "Sort vs Sorted: "
   ]
  },
  {
   "cell_type": "code",
   "execution_count": 31,
   "metadata": {},
   "outputs": [
    {
     "data": {
      "text/plain": [
       "'Simonoff'"
      ]
     },
     "execution_count": 31,
     "metadata": {},
     "output_type": "execute_result"
    }
   ],
   "source": [
    "check = \"Jacky Mon Simonoff\"\n",
    "# check.split()[2]\n",
    "check.split()[-1]"
   ]
  },
  {
   "cell_type": "code",
   "execution_count": null,
   "metadata": {},
   "outputs": [],
   "source": [
    "#PythonKnowHow\n",
    "#To get the last element from a list\n",
    "listname[-1]\n",
    "\n",
    "#Split a string into words \n",
    "stringname.split()\n",
    "\n"
   ]
  },
  {
   "cell_type": "code",
   "execution_count": 32,
   "metadata": {},
   "outputs": [
    {
     "data": {
      "text/plain": [
       "['Jacky Mon Simonoff', 'John Smith', 'Lucy Smith', 'Angela Zimonova']"
      ]
     },
     "execution_count": 32,
     "metadata": {},
     "output_type": "execute_result"
    }
   ],
   "source": [
    "def sortStudents(students):\n",
    "    students.sort(key= lambda students: students.split()[-1])\n",
    "    return students\n",
    "\n",
    "sortStudents([\"John Smith\", \n",
    " \"Jacky Mon Simonoff\", \n",
    " \"Lucy Smith\", \n",
    " \"Angela Zimonova\"])"
   ]
  },
  {
   "cell_type": "markdown",
   "metadata": {},
   "source": [
    "Is Test Solvable"
   ]
  },
  {
   "cell_type": "code",
   "execution_count": null,
   "metadata": {},
   "outputs": [],
   "source": [
    "Implement the missing code, denoted by ellipses. You may not modify the pre-existing code.\n",
    "\n",
    "You've been preparing all night for the upcoming test and entered the class certain that you will ace it. Now that you received the test questions, you died inside a little: looks like you prepared for the test on a completely different topic.\n",
    "\n",
    "You're not even sure if you should bother to answer the questions. You still have some hope though: it is known that there's a glitch in the test preparing system, so that if the sum of digits of question ids is divisible by k, the answer to each question has a 90% probability to be an A.\n",
    "\n",
    "Given the list of question ids, determine if the sum of their digits is divisible by k to see if it's worth trying to pass the test.\n",
    "\n",
    "Example\n",
    "\n",
    "For ids = [529665, 909767, 644200] and k = 3, the output should be\n",
    "isTestSolvable(ids, k) = true.\n",
    "\n",
    "The sum of digits is\n",
    "\n",
    "(5 + 2 + 9 + 6 + 6 + 5) + (9 + 0 + 9 + 7 + 6 + 7) + (6 + 4 + 4 + 2 + 0 + 0) = 87\n",
    "\n",
    "which is divisible by 3. Today is your lucky day after all!\n",
    "\n",
    "Input/Output\n",
    "\n",
    "    [execution time limit] 4 seconds (py)\n",
    "\n",
    "    [input] array.integer ids\n",
    "\n",
    "    Array of unique question ids.\n",
    "\n",
    "    Guaranteed constraints:\n",
    "    1 ≤ ids.length ≤ 50,\n",
    "    0 ≤ ids[i] ≤ 106.\n",
    "\n",
    "    [input] integer k\n",
    "\n",
    "    The number that causes a glitch in the test preparing system.\n",
    "\n",
    "    Guaranteed constraints:\n",
    "    2 ≤ k ≤ 10.\n",
    "\n",
    "    [output] boolean\n",
    "\n",
    "    true if the total sum of digits in ids is divisible by k, false otherwise.\n",
    "    \n",
    "    def isTestSolvable(ids, k):\n",
    "    digitSum = ...\n",
    "\n",
    "    sm = 0\n",
    "    for questionId in ids:\n",
    "        sm += digitSum(questionId)\n",
    "    return sm % k == 0\n",
    "\n"
   ]
  },
  {
   "cell_type": "code",
   "execution_count": 45,
   "metadata": {},
   "outputs": [
    {
     "name": "stdout",
     "output_type": "stream",
     "text": [
      "[5, 2, 9, 6, 6, 5]\n"
     ]
    },
    {
     "data": {
      "text/plain": [
       "33"
      ]
     },
     "execution_count": 45,
     "metadata": {},
     "output_type": "execute_result"
    }
   ],
   "source": [
    "# def isTestSolvable(ids, k):\n",
    "#     digitSum = lambda x: sum(int(str(x)))\n",
    "\n",
    "#     sm = 0\n",
    "#     for questionId in ids:\n",
    "#         sm += digitSum(questionId)\n",
    "#     return sm % k == 0\n",
    "\n",
    "x = 529665\n",
    "xstr = \n",
    "print(list(map(int,list(xstr))))\n",
    "\n",
    "sum(map(int,list(str(x))))"
   ]
  },
  {
   "cell_type": "code",
   "execution_count": null,
   "metadata": {},
   "outputs": [],
   "source": [
    "def isTestSolvable(ids, k):\n",
    "    digitSum = lambda x: sum(map(int,list(str(x))))\n",
    "\n",
    "    sm = 0\n",
    "    for questionId in ids:\n",
    "        sm += digitSum(questionId)\n",
    "    return sm % k == 0"
   ]
  }
 ],
 "metadata": {
  "kernelspec": {
   "display_name": "Python 3",
   "language": "python",
   "name": "python3"
  },
  "language_info": {
   "codemirror_mode": {
    "name": "ipython",
    "version": 3
   },
   "file_extension": ".py",
   "mimetype": "text/x-python",
   "name": "python",
   "nbconvert_exporter": "python",
   "pygments_lexer": "ipython3",
   "version": "3.7.3"
  },
  "varInspector": {
   "cols": {
    "lenName": 16,
    "lenType": 16,
    "lenVar": 40
   },
   "kernels_config": {
    "python": {
     "delete_cmd_postfix": "",
     "delete_cmd_prefix": "del ",
     "library": "var_list.py",
     "varRefreshCmd": "print(var_dic_list())"
    },
    "r": {
     "delete_cmd_postfix": ") ",
     "delete_cmd_prefix": "rm(",
     "library": "var_list.r",
     "varRefreshCmd": "cat(var_dic_list()) "
    }
   },
   "types_to_exclude": [
    "module",
    "function",
    "builtin_function_or_method",
    "instance",
    "_Feature"
   ],
   "window_display": false
  }
 },
 "nbformat": 4,
 "nbformat_minor": 2
}
