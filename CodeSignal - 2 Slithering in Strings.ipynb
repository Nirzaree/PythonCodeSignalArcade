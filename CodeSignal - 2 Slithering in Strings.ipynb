{
 "cells": [
  {
   "cell_type": "markdown",
   "metadata": {},
   "source": [
    "Questions from:  https://app.codesignal.com/arcade/python-arcade/slithering-in-strings"
   ]
  },
  {
   "cell_type": "markdown",
   "metadata": {},
   "source": [
    "1. String definition"
   ]
  },
  {
   "cell_type": "markdown",
   "metadata": {},
   "source": [
    "Which of the string definitions are incorrect? \n",
    "\n",
    "![some caption](Selection_133.png)\n",
    "\n"
   ]
  },
  {
   "cell_type": "markdown",
   "metadata": {},
   "source": [
    "I thought it would be all except 1 & 2, however thats not in the answer options. Hence we run each and check"
   ]
  },
  {
   "cell_type": "code",
   "execution_count": 18,
   "metadata": {},
   "outputs": [
    {
     "data": {
      "text/plain": [
       "'abacaba'"
      ]
     },
     "execution_count": 18,
     "metadata": {},
     "output_type": "execute_result"
    }
   ],
   "source": [
    "s = 'abacaba'\n",
    "type(s)\n",
    "s"
   ]
  },
  {
   "cell_type": "code",
   "execution_count": 17,
   "metadata": {},
   "outputs": [
    {
     "data": {
      "text/plain": [
       "'abacaba'"
      ]
     },
     "execution_count": 17,
     "metadata": {},
     "output_type": "execute_result"
    }
   ],
   "source": [
    "s = \"abacaba\"\n",
    "type(s)\n",
    "s"
   ]
  },
  {
   "cell_type": "code",
   "execution_count": 16,
   "metadata": {},
   "outputs": [
    {
     "ename": "SyntaxError",
     "evalue": "invalid syntax (<ipython-input-16-2e63938b66ba>, line 1)",
     "output_type": "error",
     "traceback": [
      "\u001b[0;36m  File \u001b[0;32m\"<ipython-input-16-2e63938b66ba>\"\u001b[0;36m, line \u001b[0;32m1\u001b[0m\n\u001b[0;31m    s = ''abacaba'' #invalid syntax\u001b[0m\n\u001b[0m                ^\u001b[0m\n\u001b[0;31mSyntaxError\u001b[0m\u001b[0;31m:\u001b[0m invalid syntax\n"
     ]
    }
   ],
   "source": [
    "s = ''abacaba'' #invalid syntax\n",
    "type(s)\n",
    "s"
   ]
  },
  {
   "cell_type": "code",
   "execution_count": 11,
   "metadata": {},
   "outputs": [
    {
     "ename": "SyntaxError",
     "evalue": "invalid syntax (<ipython-input-11-09e55e35bde3>, line 1)",
     "output_type": "error",
     "traceback": [
      "\u001b[0;36m  File \u001b[0;32m\"<ipython-input-11-09e55e35bde3>\"\u001b[0;36m, line \u001b[0;32m1\u001b[0m\n\u001b[0;31m    s = \"\"abacaba\"\" #invalid syntax\u001b[0m\n\u001b[0m                ^\u001b[0m\n\u001b[0;31mSyntaxError\u001b[0m\u001b[0;31m:\u001b[0m invalid syntax\n"
     ]
    }
   ],
   "source": [
    "s = \"\"abacaba\"\" #invalid syntax\n",
    "type(s)"
   ]
  },
  {
   "cell_type": "code",
   "execution_count": 14,
   "metadata": {},
   "outputs": [
    {
     "data": {
      "text/plain": [
       "'abacaba'"
      ]
     },
     "execution_count": 14,
     "metadata": {},
     "output_type": "execute_result"
    }
   ],
   "source": [
    "s = '''abacaba'''\n",
    "type(s)\n",
    "s"
   ]
  },
  {
   "cell_type": "code",
   "execution_count": 15,
   "metadata": {},
   "outputs": [
    {
     "data": {
      "text/plain": [
       "'abacaba'"
      ]
     },
     "execution_count": 15,
     "metadata": {},
     "output_type": "execute_result"
    }
   ],
   "source": [
    "s = \"\"\"abacaba\"\"\"\n",
    "type(s)\n",
    "s"
   ]
  },
  {
   "cell_type": "markdown",
   "metadata": {},
   "source": [
    "Thus looks like 3 & 4 are incorrect and rest are fine"
   ]
  },
  {
   "cell_type": "markdown",
   "metadata": {},
   "source": [
    "2. Fix message"
   ]
  },
  {
   "cell_type": "markdown",
   "metadata": {},
   "source": [
    "Implement the missing code, denoted by ellipses. You may not modify the pre-existing code.\n",
    "\n",
    "One of your friends has an awful writing style: he almost never starts a message with a capital letter, but adds uppercase letters in random places throughout the message. It makes chatting with him very difficult for you, so you decided to write a plugin that will change each message received from your friend into a more readable form.\n",
    "\n",
    "Implement a function that will change the very first symbol of the given message to uppercase, and make all the other letters lowercase.\n",
    "\n",
    "Example\n",
    "\n",
    "For message = \"you'll NEVER believe what that 'FrIeNd' of mine did!!1\",\n",
    "the output should be\n",
    "fixMessage(message) = \"You'll never believe what that 'friend' of mine did!!1\".\n",
    "\n",
    "def fixMessage(message):\n",
    "    return message...()"
   ]
  },
  {
   "cell_type": "code",
   "execution_count": 3,
   "metadata": {},
   "outputs": [
    {
     "data": {
      "text/plain": [
       "\"You'll never believe what that 'friend' of mine did!!1\""
      ]
     },
     "execution_count": 3,
     "metadata": {},
     "output_type": "execute_result"
    }
   ],
   "source": [
    "str = \"you'll NEVER believe what that 'FrIeNd' of mine did!!1\"\n",
    "# str.lower()\n",
    "str.capitalize()\n",
    "\n",
    "#Solution\n",
    "def fixMessage(message):\n",
    "    return message.capitalize()"
   ]
  },
  {
   "cell_type": "markdown",
   "metadata": {},
   "source": [
    "3. Cat Walk"
   ]
  },
  {
   "cell_type": "markdown",
   "metadata": {},
   "source": [
    "Implement the missing code, denoted by ellipses. You may not modify the pre-existing code.\n",
    "\n",
    "You've been working on a particularly difficult algorithm all day, and finally decided to take a break and drink some coffee. To your horror, when you returned you found out that your cat decided to take a walk on the keyboard in your absence, and pressed a key or two. Your computer doesn't react to letters being pressed when an unauthorized action appears, but allows typing whitespace characters and moving the arrow keys, so now your masterpiece contains way too many whitespace characters.\n",
    "\n",
    "To repair the damage, you need to start with implementing a function that will replace all multiple space characters in the given line of your code with single ones. In addition, all leading and trailing whitespaces should be removed.\n",
    "\n",
    "Example\n",
    "\n",
    "For\n",
    "\n",
    "line = \"def      m   e  gaDifficu     ltFun        ction(x):\"\n",
    "\n",
    "the output should be\n",
    "catWalk(line) = \"def m e gaDifficu ltFun ction(x):\".\n",
    "\n",
    "def catWalk(code):\n",
    "    return ..."
   ]
  },
  {
   "cell_type": "code",
   "execution_count": 6,
   "metadata": {},
   "outputs": [
    {
     "data": {
      "text/plain": [
       "['def', 'm', 'e', 'gaDifficu', 'ltFun', 'ction(x):']"
      ]
     },
     "metadata": {},
     "output_type": "display_data"
    },
    {
     "data": {
      "text/plain": [
       "'def m e gaDifficu ltFun ction(x):'"
      ]
     },
     "metadata": {},
     "output_type": "display_data"
    }
   ],
   "source": [
    "line = \"def      m   e  gaDifficu     ltFun        ction(x):\"\n",
    "display(line.split())\n",
    "display(' '.join(line.split())) \n",
    "\n",
    "# https://stackoverflow.com/questions/2077897/substitute-multiple-whitespace-with-single-whitespace-in-python\n",
    "\n",
    "#Solution\n",
    "def catWalk(code):\n",
    "    return ' '.join(code.split())\n",
    "\n",
    "catWalk(\"\")"
   ]
  },
  {
   "cell_type": "markdown",
   "metadata": {},
   "source": [
    "Convert Tabs"
   ]
  },
  {
   "cell_type": "markdown",
   "metadata": {},
   "source": [
    "Implement the missing code, denoted by ellipses. You may not modify the pre-existing code.\n",
    "\n",
    "You found an awesome customizable Python IDE that has almost everything you'd like to see in your working environment. However, after a couple days of coding you discover that there is one important feature that this IDE lacks: it cannot convert tabs to spaces. Luckily, the IDE is easily customizable, so you decide to write a plugin that would convert all tabs in the code into the given number of whitespace characters.\n",
    "\n",
    "Implement a function that, given a piece of code and a positive integer x will turn each tabulation character in code into x whitespace characters.\n",
    "\n",
    "Example\n",
    "\n",
    "For code = \"\\treturn False\" and x = 4, the output should be\n",
    "\n",
    "convertTabs(code, x) = \"    return False\"\n",
    "\n",
    "def convertTabs(code, x):\n",
    "    return ..."
   ]
  },
  {
   "cell_type": "code",
   "execution_count": null,
   "metadata": {},
   "outputs": [],
   "source": [
    "def convertTabs(code, x):\n",
    "    return code.replace('\\t',' ' * x)"
   ]
  },
  {
   "cell_type": "markdown",
   "metadata": {},
   "source": [
    "Feedback Review"
   ]
  },
  {
   "cell_type": "markdown",
   "metadata": {},
   "source": [
    "Implement the missing code, denoted by ellipses. You may not modify the pre-existing code.\n",
    "\n",
    "You've launched a revolutionary service not long ago, and were busy improving it for the last couple of months. When you finally decided that the service is perfect, you remembered that you created a feedbacks page long time ago, which you never checked out since then. Now that you have nothing left to do, you would like to have a look at what the community thinks of your service.\n",
    "\n",
    "Unfortunately it looks like the feedbacks page is far from perfect: each feedback is displayed as a one-line string, and if it's too long there's no way to see what it is about. Naturally, this horrible bug should be fixed. Implement a function that, given a feedback and the size of the screen, splits the feedback into lines so that:\n",
    "\n",
    "    each token (i.e. sequence of non-whitespace characters) belongs to one of the lines entirely;\n",
    "    each line is at most size characters long;\n",
    "    no line has trailing or leading spaces;\n",
    "    each line should have the maximum possible length, assuming that all lines before it were also the longest possible.\n",
    "\n",
    "Example\n",
    "\n",
    "For feedback = \"This is an example feedback\" and size = 8,\n",
    "the output should be\n",
    "\n",
    "feedbackReview(feedback, size) = [\"This is\", \n",
    "                                  \"an\", \n",
    "                                  \"example\", \n",
    "                                  \"feedback\"]\n",
    "\n"
   ]
  },
  {
   "cell_type": "code",
   "execution_count": 11,
   "metadata": {},
   "outputs": [
    {
     "data": {
      "text/plain": [
       "['This is', 'an', 'example', 'feedback']"
      ]
     },
     "execution_count": 11,
     "metadata": {},
     "output_type": "execute_result"
    }
   ],
   "source": [
    "# https://stackoverflow.com/questions/32122022/split-a-string-into-pieces-of-max-length-x-split-only-at-spaces\n",
    "#Python3\n",
    "import textwrap\n",
    "\n",
    "def feedbackReview(feedback, size):\n",
    "    return textwrap.wrap(feedback,size)\n",
    "\n",
    "feedbackReview(\"This is an example feedback\",8)"
   ]
  },
  {
   "cell_type": "markdown",
   "metadata": {},
   "source": [
    "Is Word Palindrome"
   ]
  },
  {
   "cell_type": "markdown",
   "metadata": {},
   "source": [
    "Implement the missing code, denoted by ellipses. You may not modify the pre-existing code.\n",
    "\n",
    "Given a word, check whether it is a palindrome or not. A string is considered to be a palindrome if it reads the same in both directions.\n",
    "\n",
    "Example\n",
    "\n",
    "    For word = \"aibohphobia\", the output should be\n",
    "    isWordPalindrome(word) = true;\n",
    "\n",
    "    For word = \"hehehehehe\", the output should be\n",
    "    isWordPalindrome(word) = false.\n",
    "\n",
    "Input/Output\n",
    "\n",
    "    [execution time limit] 4 seconds (py3)\n",
    "\n",
    "    [input] string word\n",
    "\n",
    "    A string containing lowercase English letters.\n",
    "\n",
    "    Guaranteed constraints:\n",
    "    1 ≤ word.length ≤ 20.\n",
    "\n",
    "    [output] boolean\n",
    "\n",
    "    true if the given word is a palindrome, false otherwise.\n",
    "    \n",
    "def isWordPalindrome(word):\n",
    "return word == word...\n"
   ]
  },
  {
   "cell_type": "code",
   "execution_count": 12,
   "metadata": {},
   "outputs": [
    {
     "data": {
      "text/plain": [
       "'gnirts'"
      ]
     },
     "execution_count": 12,
     "metadata": {},
     "output_type": "execute_result"
    }
   ],
   "source": [
    "s = \"string\"\n",
    "s[::-1]"
   ]
  },
  {
   "cell_type": "code",
   "execution_count": null,
   "metadata": {},
   "outputs": [],
   "source": [
    "def isWordPalindrome(word):\n",
    "    return word == word[::-1]"
   ]
  },
  {
   "cell_type": "markdown",
   "metadata": {},
   "source": [
    "Permutation Cipher"
   ]
  },
  {
   "cell_type": "markdown",
   "metadata": {},
   "source": [
    "Implement the missing code, denoted by ellipses. You may not modify the pre-existing code.\n",
    "\n",
    "You found your very first laptop in the attic, and decided to give in to nostalgia and turn it on. The laptop turned out to be password protected, but you know how to crack it: you have always used the same password, but encrypt it using permutation ciphers with various keys. The key to the cipher used to protect your old laptop very conveniently happened to be written on the laptop lid.\n",
    "\n",
    "Here's how permutation cipher works: the key to it consists of all the letters of the alphabet written up in some order. All occurrences of letter 'a' in the encrypted text are substituted with the first letter of the key, all occurrences of letter 'b' are replaced with the second letter from the key, and so on, up to letter 'z' replaced with the last symbol of the key.\n",
    "\n",
    "Given the password you always use, your task is to encrypt it using the permutation cipher with the given key.\n",
    "\n",
    "Example\n",
    "\n",
    "For password = \"iamthebest\" and\n",
    "key = \"zabcdefghijklmnopqrstuvwxy\", the output should be\n",
    "permutationCipher(password, key) = \"hzlsgdadrs\".\n",
    "\n",
    "Here's a table that can be used to encrypt the text:\n",
    "\n",
    "abcdefghijklmnopqrstuvwxyz\n",
    "||  |  ||   |     || \n",
    "vv  v  vv   v     vv\n",
    "zabcdefghijklmnopqrstuvwxy\n",
    "\n",
    "Input/Output\n",
    "\n",
    "    [execution time limit] 4 seconds (py3)\n",
    "\n",
    "    [input] string password\n",
    "\n",
    "    The password you always use. It is guaranteed to consist only of lowercase English letters.\n",
    "    If you're using Python 2, note that the string is given as a unicode.\n",
    "\n",
    "    Guaranteed constraints:\n",
    "    1 ≤ password.length ≤ 26.\n",
    "\n",
    "    [input] string key\n",
    "\n",
    "    The key to the permutation cipher. It is guaranteed to be a permutation of the plaintext alphabet.\n",
    "    If you're using Python 2, note that the string is given as a unicode.\n",
    "\n",
    "    Guaranteed constraints:\n",
    "    key.length = 26.\n",
    "\n",
    "    [output] string\n",
    "\n",
    "    Your password encrypted by the permutations cipher with the given key.\n"
   ]
  },
  {
   "cell_type": "code",
   "execution_count": null,
   "metadata": {},
   "outputs": [],
   "source": [
    "def permutationCipher(password, key):\n",
    "    table = str.maketrans(string.ascii_lowercase,key)\n",
    "    return password.translate(table)\n",
    "\n",
    "#translation table!! "
   ]
  },
  {
   "cell_type": "code",
   "execution_count": 44,
   "metadata": {},
   "outputs": [
    {
     "data": {
      "text/plain": [
       "4"
      ]
     },
     "execution_count": 44,
     "metadata": {},
     "output_type": "execute_result"
    }
   ],
   "source": [
    "round(3.1415,2)\n",
    "\n",
    "digit = 3.14\n",
    "\n",
    "''.join([' ' * 4,str(digit),' ' * 4])\n",
    "\n",
    "t = 3.1415\n",
    "precision = 2\n",
    "str(round(t,precision))\n",
    "int(len(str(round(t,precision)))/2)\n",
    "\n",
    "\n",
    "round(29.8245,0)\n",
    "round(837.28472,7)\n",
    "format(837.28472, '.7f')\n",
    "format(29.8245, '.0f')\n",
    "len(format(29.8245, '.0f'))\n",
    "\n",
    "'.' + str(precision) + 'f'\n",
    "\n",
    "int((20 - len('837.2847200'))/2)\n",
    "\n",
    "int(3.9)\n",
    "\n",
    "round(3.9)\n",
    "\n"
   ]
  },
  {
   "cell_type": "markdown",
   "metadata": {},
   "source": [
    "Competitive Eating"
   ]
  },
  {
   "cell_type": "markdown",
   "metadata": {},
   "source": [
    "Implement the missing code, denoted by ellipses. You may not modify the pre-existing code.\n",
    "\n",
    "The World Wide Competitive Eating tournament is going to be held in your town, and you're the one who is responsible for keeping track of time. For the great finale, a large billboard of the given width will be installed on the main square, where the time of possibly new world record will be shown.\n",
    "\n",
    "The track of time will be kept by a float number. It will be displayed on the board with the set precision precision with center alignment, and it is guaranteed that it will fit in the screen. Your task is to test the billboard. Given the time t, the width of the screen and the precision with which the time should be displayed, return a string that should be shown on the billboard.\n",
    "\n",
    "Example\n",
    "\n",
    "For t = 3.1415, width = 10, and precision = 2,\n",
    "the output should be\n",
    "\n",
    "competitiveEating(t, width, precision) = \"   3.14   \"\n",
    "\n",
    "Input/Output\n",
    "\n",
    "    [execution time limit] 4 seconds (py3)\n",
    "\n",
    "    [input] float t\n",
    "\n",
    "    The time to be displayed on the billboard. It is guaranteed that t has at most 5 digits after the decimal point.\n",
    "\n",
    "    Guaranteed constraints:\n",
    "    0 ≤ t < 1000.\n",
    "\n",
    "    [input] integer width\n",
    "\n",
    "    The width of the billboard. It is guaranteed that it's big enough to display the time t with the desired precision.\n",
    "\n",
    "    In case it's impossible to align the time perfectly in the center, left padding should be 1 whitespace character shorter than right padding.\n",
    "\n",
    "    Guaranteed constraints:\n",
    "    3 ≤ width ≤ 20.\n",
    "\n",
    "    [input] integer precision\n",
    "\n",
    "    Precision with which the number should be displayed.\n",
    "\n",
    "    Guaranteed constraints:\n",
    "    0 ≤ precision ≤ 10.\n",
    "\n",
    "    [output] string\n",
    "\n",
    "    A string of length width representing the time t as it will be displayed on the billboard.\n"
   ]
  },
  {
   "cell_type": "code",
   "execution_count": 48,
   "metadata": {},
   "outputs": [
    {
     "data": {
      "text/plain": [
       "'    837.2847200     '"
      ]
     },
     "execution_count": 48,
     "metadata": {},
     "output_type": "execute_result"
    }
   ],
   "source": [
    "# def competitiveEating(t, width, precision):\n",
    "#     return ' ' * int((width - int(len(str(round(t,precision)))))/2) + str(round(t,precision)) + ' ' * int((width - int(len(str(round(t,precision)))))/2)\n",
    "\n",
    "# competitiveEating(3.1415,10,2)\n",
    "\n",
    "def competitiveEating(t, width, precision):\n",
    "    stringToDisplay = format(t,'.' + str(precision) + 'f')\n",
    "    return ' ' * int((width - len(stringToDisplay))/2) + stringToDisplay + ' ' * int(width - len(stringToDisplay) - int((width - len(stringToDisplay))/2))\n",
    "\n",
    "# competitiveEating(3.1415,10,2)\n",
    "competitiveEating(0,4,1)\n",
    "competitiveEating(837.28472,20,7)\n"
   ]
  },
  {
   "cell_type": "code",
   "execution_count": null,
   "metadata": {},
   "outputs": [],
   "source": [
    "#elegant solution: todo: understand python string operations properly\n",
    "def competitiveEating(t, width, precision):\n",
    "    return \"{0:.{1}f}\".format(t,precision).center(width)"
   ]
  },
  {
   "cell_type": "markdown",
   "metadata": {},
   "source": [
    "New Style Formatting\n"
   ]
  },
  {
   "cell_type": "markdown",
   "metadata": {},
   "source": [
    "You came to work in a big company as a Senior Python Developer. Unfortunately your team members seem to be quite old-school: you can see old-style string formatting everywhere in the code, which is not too cool. You tried to force the team members to start using the new style formatting, but it looks like it will take some time to persuade them: old habits die hard, especially in old-school programmers.\n",
    "\n",
    "To show your colleagues that the new style formatting is not that different from the old style, you decided to implement a function that will turn the old-style syntax into a new one. Implement a function that will turn the old-style string formating s into a new one so that the following two strings have the same meaning:\n",
    "\n",
    "    s % (*args)\n",
    "    s.format(*args)\n",
    "\n",
    "Example\n",
    "\n",
    "For s = \"We expect the %f%% growth this week\", the output should be\n",
    "newStyleFormatting(s) = \"We expect the {}% growth this week\".\n",
    "\n",
    "Input/Output\n",
    "\n",
    "    [execution time limit] 5 seconds (r)\n",
    "\n",
    "    [input] string s\n",
    "\n",
    "    A correct old-style formatting string. It is guaranteed that each % sign in it is always followed either by a correct conversion type or by another '%' sign (see this for reference). It is also guaranteed that it doesn't contain curly brackets ('{' or '}').\n",
    "\n",
    "    Guaranteed constraints:\n",
    "    1 ≤ s.length ≤ 70.\n",
    "\n",
    "    [output] string\n",
    "\n",
    "    A new-style formatting string without positional indices.\n",
    "    \n",
    "\n",
    "def newStyleFormatting(s):\n"
   ]
  },
  {
   "cell_type": "code",
   "execution_count": null,
   "metadata": {},
   "outputs": [],
   "source": [
    "#Getting a feel for both the formatting styles\n",
    "\n",
    "display(\"We expect the %f%% growth this week\" % 5.0)\n",
    "\n",
    "display(\"We expect the {}% growth this week\".format(5.0))\n",
    "display(\"We expect the {}% growth this week\".format(\"star\"))\n",
    "\n",
    "# display(\"We expect the %f%% growth this week\" % \"star\") #this errors out because the type is not matching.\n",
    "#but in new style formatting, we dont have to change this at all.\n",
    "\n",
    "#getting intuition for the so many % \n",
    "display(\"We expect the %f growth this week\" % 5.0)\n",
    "\n",
    "#got it so when % is for percentage, we need double such symbols, and when its for the variable type\n",
    "# then the % is followed by type. \n",
    "\n",
    "#Python data type symbols:\n",
    "# https://www.python-course.eu/python3_formatted_output.php\n",
    "\n",
    "#Quite a lot but for us, the useful ones are:\n",
    "# 1. d : signed integer decimal\n",
    "# 2. f : floating point decimal format\n",
    "# 3. s : string\n",
    "\n",
    "\n"
   ]
  },
  {
   "cell_type": "code",
   "execution_count": 32,
   "metadata": {},
   "outputs": [
    {
     "data": {
      "text/plain": [
       "'We expect the {}% growth this week'"
      ]
     },
     "execution_count": 32,
     "metadata": {},
     "output_type": "execute_result"
    }
   ],
   "source": [
    "#trying some solutions\n",
    "import re\n",
    "def newStyleFormatting(s):\n",
    "    new_s = re.sub(\"%%\",\"%\",s)\n",
    "    return re.sub(\"%\" + \"[a-z]\",\"{}\",new_s)\n",
    "\n",
    "newStyleFormatting(\"We expect the %f%% growth this week\")\n"
   ]
  },
  {
   "cell_type": "markdown",
   "metadata": {},
   "source": [
    "Worked on 5 out of 7 tests. These tests failed. \n",
    "\n",
    "s: \"Much %%s we have here!\"\n",
    "\n",
    "Output:\n",
    "\n",
    "\"Much {} we have here!\"\n",
    "\n",
    "Expected Output:\n",
    "\n",
    "\"Much %s we have here!\"\n",
    "\n",
    "Input:\n",
    "\n",
    "s: \"%%%%x\"\n",
    "\n",
    "Output:\n",
    "\n",
    "\"%{}\"\n",
    "\n",
    "Expected Output:\n",
    "\n",
    "\"%%x\""
   ]
  },
  {
   "cell_type": "code",
   "execution_count": 43,
   "metadata": {},
   "outputs": [
    {
     "data": {
      "text/plain": [
       "'Much camels we have here!'"
      ]
     },
     "metadata": {},
     "output_type": "display_data"
    },
    {
     "ename": "TypeError",
     "evalue": "not all arguments converted during string formatting",
     "output_type": "error",
     "traceback": [
      "\u001b[0;31m---------------------------------------------------------------------------\u001b[0m",
      "\u001b[0;31mTypeError\u001b[0m                                 Traceback (most recent call last)",
      "\u001b[0;32m<ipython-input-43-466a745f21a8>\u001b[0m in \u001b[0;36m<module>\u001b[0;34m\u001b[0m\n\u001b[1;32m      3\u001b[0m \u001b[0mdisplay\u001b[0m\u001b[0;34m(\u001b[0m\u001b[0;34m\"Much %s we have here!\"\u001b[0m \u001b[0;34m%\u001b[0m \u001b[0;34m\"camels\"\u001b[0m\u001b[0;34m)\u001b[0m\u001b[0;34m\u001b[0m\u001b[0;34m\u001b[0m\u001b[0m\n\u001b[1;32m      4\u001b[0m \u001b[0;34m\u001b[0m\u001b[0m\n\u001b[0;32m----> 5\u001b[0;31m \u001b[0mdisplay\u001b[0m\u001b[0;34m(\u001b[0m\u001b[0;34m\"%%x\"\u001b[0m \u001b[0;34m%\u001b[0m \u001b[0;34m(\u001b[0m\u001b[0;36m46\u001b[0m\u001b[0;34m)\u001b[0m\u001b[0;34m)\u001b[0m\u001b[0;34m\u001b[0m\u001b[0;34m\u001b[0m\u001b[0m\n\u001b[0m",
      "\u001b[0;31mTypeError\u001b[0m: not all arguments converted during string formatting"
     ]
    }
   ],
   "source": [
    "#understanding these cases: \n",
    "\n",
    "display(\"Much %s we have here!\" % \"camels\") \n",
    "\n",
    "display(\"%%x\" % (46))#how does this (the expected solution even make sense)\n"
   ]
  },
  {
   "cell_type": "code",
   "execution_count": 62,
   "metadata": {},
   "outputs": [
    {
     "data": {
      "text/plain": [
       "'Much {%}s we have here!'"
      ]
     },
     "metadata": {},
     "output_type": "display_data"
    },
    {
     "data": {
      "text/plain": [
       "'Much {%}s we have here!'"
      ]
     },
     "metadata": {},
     "output_type": "display_data"
    },
    {
     "data": {
      "text/plain": [
       "'Much %s we have here!'"
      ]
     },
     "metadata": {},
     "output_type": "display_data"
    }
   ],
   "source": [
    "#trying for a solution: \n",
    "# s = \"Much %%s we have here!\"\n",
    "# display(s.split())\n",
    "\n",
    "#now 2 scenarios\n",
    "# %%: replace with %\n",
    "# ending with $$(alphabet) : replace with %(alphabet)\n",
    "# s_new = re.sub(\"$%%\" + \"[a-z],\"%\" + \"[a-z]\")\n",
    "# display(s_new)\n",
    "\n",
    "# display(s)\n",
    "# m=s.replace('%%','{%}')\n",
    "# display(m)\n",
    "# y=re.sub('%\\w','{}',m)\n",
    "# display(y)\n",
    "# last_return= y.replace('{%}','%')\n",
    "# display(last_return)\n",
    "#solution from comments. I am just trying to understand it. \n",
    "\n",
    "# s = \"%%%%x\"\n",
    "# m=s.replace('%%','{%}')\n",
    "# display(m)\n",
    "# y=re.sub('%\\w','{}',m)\n",
    "# display(y)\n",
    "# last_return= y.replace('{%}','%')\n",
    "# display(last_return)\n",
    "\n",
    "# s = \"We expect the %f%% growth this week\"\n",
    "# m=s.replace('%%','{%}')\n",
    "# display(m)\n",
    "# y=re.sub('%\\w','{}',m)\n",
    "# display(y)\n",
    "# last_return= y.replace('{%}','%')\n",
    "# display(last_return)\n",
    "\n",
    "\n",
    "#Replace: \n",
    "# 1. Replace double percentage with {%}\n",
    "# 2. Now replace %\\w which should be same as % + \"[a-z]\" with {}\n",
    "# 3. Replace {%} with {}\n",
    "\n",
    "# Let's try again\n",
    "\n",
    "# s =  \"We expect the %f%% growth this week\"\n",
    "# m = s.replace(\"%%\",\"{%}\")\n",
    "# display(m)\n",
    "# y = re.sub(\"%\" + \"[a-z]\",\"{}\",m)\n",
    "# display(y)\n",
    "# z = y.replace(\"{%}\",\"%\")\n",
    "# display(z)\n",
    "\n",
    "#understand this for unique cases\n",
    "# s = \"%%%%x\"\n",
    "# m = s.replace(\"%%\",\"{%}\")\n",
    "# display(m)\n",
    "# y = re.sub(\"%\" + \"[a-z]\",\"{}\",m)\n",
    "# display(y)\n",
    "# z = y.replace(\"{%}\",\"%\")\n",
    "# display(z)\n",
    "\n",
    "s = \"Much %%s we have here!\"\n",
    "m = s.replace(\"%%\",\"{%}\")\n",
    "display(m)\n",
    "y = re.sub(\"%\" + \"[a-z]\",\"{}\",m)\n",
    "display(y)\n",
    "z = y.replace(\"{%}\",\"%\")\n",
    "display(z)\n",
    "\n",
    "\n"
   ]
  },
  {
   "cell_type": "markdown",
   "metadata": {},
   "source": [
    "todo: understand string formatting better. Question 19 in python arcade codesignal. I dont understand how somme of the solutions are makign sense, as they are wrong formats. "
   ]
  },
  {
   "cell_type": "code",
   "execution_count": 64,
   "metadata": {},
   "outputs": [
    {
     "data": {
      "text/plain": [
       "'%%x'"
      ]
     },
     "metadata": {},
     "output_type": "display_data"
    },
    {
     "data": {
      "text/plain": [
       "'We expect the {}% growth this week'"
      ]
     },
     "metadata": {},
     "output_type": "display_data"
    },
    {
     "data": {
      "text/plain": [
       "'Much %{} we have here!'"
      ]
     },
     "metadata": {},
     "output_type": "display_data"
    }
   ],
   "source": [
    "#final solution \n",
    "import re\n",
    "def newStyleFormatting(s):\n",
    "    m = s.replace(\"%%\",\"{%}\")\n",
    "    t = re.sub(\"%\" + \"[a-z]\",\"{}\",m)\n",
    "    finalstring = t.replace(\"{%}\",\"%\")\n",
    "    return finalstring\n",
    "\n",
    "display(newStyleFormatting(\"%%%%x\"))\n",
    "display(newStyleFormatting(\"We expect the %f%% growth this week\"))\n",
    "display(newStyleFormatting(\"Much %%%s we have here!\"))\n",
    "\n"
   ]
  },
  {
   "cell_type": "code",
   "execution_count": 67,
   "metadata": {},
   "outputs": [
    {
     "data": {
      "text/plain": [
       "'Much %%%s we have here!'"
      ]
     },
     "metadata": {},
     "output_type": "display_data"
    },
    {
     "data": {
      "text/plain": [
       "'Much {%}%s we have here!'"
      ]
     },
     "metadata": {},
     "output_type": "display_data"
    },
    {
     "data": {
      "text/plain": [
       "'Much {%}{} we have here!'"
      ]
     },
     "metadata": {},
     "output_type": "display_data"
    },
    {
     "data": {
      "text/plain": [
       "'Much %{} we have here!'"
      ]
     },
     "metadata": {},
     "output_type": "display_data"
    }
   ],
   "source": [
    "#check\n",
    "s = \"Much %%%s we have here!\"\n",
    "display(s)\n",
    "m = s.replace(\"%%\",\"{%}\")\n",
    "display(m)\n",
    "y = re.sub(\"%\" + \"[a-z]\",\"{}\",m)\n",
    "display(y)\n",
    "z = y.replace(\"{%}\",\"%\")\n",
    "\n",
    "display(z)"
   ]
  },
  {
   "cell_type": "code",
   "execution_count": 72,
   "metadata": {},
   "outputs": [
    {
     "data": {
      "text/plain": [
       "'%x'"
      ]
     },
     "execution_count": 72,
     "metadata": {},
     "output_type": "execute_result"
    }
   ],
   "source": [
    "import re\n",
    "def newStyleFormatting(s):\n",
    "    new_s = s.replace(\"%%\",\"{%}\")\n",
    "    new_s = re.sub(\"%\" + \"[a-z]\",\"{}\",new_s)\n",
    "    new_s = new_s.replace(\"{%}\",\"%\")\n",
    "    return new_s\n",
    "\n",
    "newStyleFormatting(\"%%x\")"
   ]
  },
  {
   "cell_type": "markdown",
   "metadata": {},
   "source": [
    "Get Commit"
   ]
  },
  {
   "cell_type": "markdown",
   "metadata": {},
   "source": [
    "Implement the missing code, denoted by ellipses. You may not modify the pre-existing code.\n",
    "\n",
    "The Abanamama Version System (AVS) is a software versioning and revision control system used in highly secure environments. In this system, each commit is assigned a unique name, the first part of which consists of the username encrypted in the base-4 system using symbols '0', '?', '+', and '!', and the second part consists of symbols of English alphabet.\n",
    "\n",
    "Given such commit, your task is go remove the username part from it and return the second part as an answer.\n",
    "\n",
    "Example\n",
    "\n",
    "For commit = \"0??+0+!!someCommIdhsSt\", the output should be\n",
    "getCommit(commit) = \"someCommIdhsSt\".\n",
    "\n",
    "Input/Output\n",
    "\n",
    "    [execution time limit] 4 seconds (py3)\n",
    "\n",
    "    [input] string commit\n",
    "\n",
    "    Commit in the format given above. Note, that it is possible that it doesn't contain the first or the second part.\n",
    "\n",
    "    Guaranteed constraints:\n",
    "    5 ≤ commit.length ≤ 45.\n",
    "\n",
    "    [output] string\n",
    "\n",
    "    The second part of the commit.\n",
    "\n",
    "[Python 3] Syntax Tips\n",
    "\n",
    "def getCommit(commit):\n",
    "    return ..."
   ]
  },
  {
   "cell_type": "code",
   "execution_count": 79,
   "metadata": {},
   "outputs": [
    {
     "data": {
      "text/plain": [
       "'someCommIdhsSt'"
      ]
     },
     "execution_count": 79,
     "metadata": {},
     "output_type": "execute_result"
    }
   ],
   "source": [
    "#my solution\n",
    "def getCommit(commit):\n",
    "    return commit.replace(\"0\",\"\").replace(\"?\",\"\").replace(\"+\",\"\").replace(\"!\",\"\")\n",
    "\n",
    "getCommit(\"0??+0+!!someCommIdhsSt\")"
   ]
  },
  {
   "cell_type": "code",
   "execution_count": 78,
   "metadata": {},
   "outputs": [
    {
     "data": {
      "text/plain": [
       "'someCommIdhsSt'"
      ]
     },
     "execution_count": 78,
     "metadata": {},
     "output_type": "execute_result"
    }
   ],
   "source": [
    "#elegant solution\n",
    "def getCommit(commit):\n",
    "    return re.sub(\"[0+?!]\",\"\",commit)\n",
    "\n",
    "getCommit(\"0??+0+!!someCommIdhsSt\")"
   ]
  }
 ],
 "metadata": {
  "kernelspec": {
   "display_name": "Python 3",
   "language": "python",
   "name": "python3"
  },
  "language_info": {
   "codemirror_mode": {
    "name": "ipython",
    "version": 3
   },
   "file_extension": ".py",
   "mimetype": "text/x-python",
   "name": "python",
   "nbconvert_exporter": "python",
   "pygments_lexer": "ipython3",
   "version": "3.7.3"
  },
  "varInspector": {
   "cols": {
    "lenName": 16,
    "lenType": 16,
    "lenVar": 40
   },
   "kernels_config": {
    "python": {
     "delete_cmd_postfix": "",
     "delete_cmd_prefix": "del ",
     "library": "var_list.py",
     "varRefreshCmd": "print(var_dic_list())"
    },
    "r": {
     "delete_cmd_postfix": ") ",
     "delete_cmd_prefix": "rm(",
     "library": "var_list.r",
     "varRefreshCmd": "cat(var_dic_list()) "
    }
   },
   "types_to_exclude": [
    "module",
    "function",
    "builtin_function_or_method",
    "instance",
    "_Feature"
   ],
   "window_display": false
  }
 },
 "nbformat": 4,
 "nbformat_minor": 2
}
