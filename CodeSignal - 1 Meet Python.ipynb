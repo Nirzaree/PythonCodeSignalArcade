{
 "cells": [
  {
   "cell_type": "markdown",
   "metadata": {},
   "source": [
    "# Meet Python"
   ]
  },
  {
   "cell_type": "markdown",
   "metadata": {},
   "source": [
    "1. What will be the value of res after the code is run? \n",
    "\n",
    "xs = [()]\n",
    "res = [False] * 2\n",
    "if xs:\n",
    "    res[0] = True\n",
    "if xs[0]:\n",
    "    res[1] = True\n"
   ]
  },
  {
   "cell_type": "code",
   "execution_count": 7,
   "metadata": {},
   "outputs": [
    {
     "data": {
      "text/plain": [
       "[()]"
      ]
     },
     "execution_count": 7,
     "metadata": {},
     "output_type": "execute_result"
    }
   ],
   "source": [
    "xs = [()]\n",
    "xs"
   ]
  },
  {
   "cell_type": "code",
   "execution_count": 8,
   "metadata": {},
   "outputs": [
    {
     "data": {
      "text/plain": [
       "list"
      ]
     },
     "execution_count": 8,
     "metadata": {},
     "output_type": "execute_result"
    }
   ],
   "source": [
    "type(xs)"
   ]
  },
  {
   "cell_type": "code",
   "execution_count": 10,
   "metadata": {},
   "outputs": [
    {
     "data": {
      "text/plain": [
       "list"
      ]
     },
     "execution_count": 10,
     "metadata": {},
     "output_type": "execute_result"
    }
   ],
   "source": [
    "res = [False] * 2\n",
    "res\n",
    "type(res)"
   ]
  },
  {
   "cell_type": "code",
   "execution_count": 11,
   "metadata": {},
   "outputs": [],
   "source": [
    "if xs:\n",
    "    res[0] = True\n",
    "if xs[0]:\n",
    "    res[1] = True"
   ]
  },
  {
   "cell_type": "code",
   "execution_count": 12,
   "metadata": {},
   "outputs": [
    {
     "data": {
      "text/plain": [
       "[True, False]"
      ]
     },
     "execution_count": 12,
     "metadata": {},
     "output_type": "execute_result"
    }
   ],
   "source": [
    "res"
   ]
  },
  {
   "cell_type": "code",
   "execution_count": 13,
   "metadata": {},
   "outputs": [
    {
     "data": {
      "text/plain": [
       "()"
      ]
     },
     "execution_count": 13,
     "metadata": {},
     "output_type": "execute_result"
    }
   ],
   "source": [
    "xs[0]"
   ]
  },
  {
   "cell_type": "code",
   "execution_count": 14,
   "metadata": {},
   "outputs": [
    {
     "data": {
      "text/plain": [
       "[()]"
      ]
     },
     "execution_count": 14,
     "metadata": {},
     "output_type": "execute_result"
    }
   ],
   "source": [
    "xs"
   ]
  },
  {
   "cell_type": "markdown",
   "metadata": {},
   "source": [
    "2. Most efficient among the 3 techniques: "
   ]
  },
  {
   "cell_type": "code",
   "execution_count": 44,
   "metadata": {},
   "outputs": [],
   "source": [
    "x,y,L,R = 17,13,14,160000"
   ]
  },
  {
   "cell_type": "code",
   "execution_count": 45,
   "metadata": {},
   "outputs": [
    {
     "name": "stdout",
     "output_type": "stream",
     "text": [
      "Time it took 0.00019288063049316406 seconds\n"
     ]
    }
   ],
   "source": [
    "import time\n",
    "starttime = time.time()\n",
    "L < x ** y <= R\n",
    "print(\"Time it took %s seconds\" % (time.time() - starttime))"
   ]
  },
  {
   "cell_type": "code",
   "execution_count": 46,
   "metadata": {},
   "outputs": [
    {
     "name": "stdout",
     "output_type": "stream",
     "text": [
      "Time it took 0.00022745132446289062 seconds\n"
     ]
    }
   ],
   "source": [
    "starttime = time.time()\n",
    "x ** y > L & x ** y <= R\n",
    "print(\"Time it took %s seconds\" % (time.time() - starttime))"
   ]
  },
  {
   "cell_type": "code",
   "execution_count": 47,
   "metadata": {},
   "outputs": [
    {
     "name": "stdout",
     "output_type": "stream",
     "text": [
      "Time it took 0.0002727508544921875 seconds\n"
     ]
    }
   ],
   "source": [
    "starttime = time.time()\n",
    "x ** y in range(L+1,R+1)\n",
    "print(\"Time it took %s seconds\" % (time.time() - starttime))"
   ]
  },
  {
   "cell_type": "code",
   "execution_count": 23,
   "metadata": {},
   "outputs": [
    {
     "name": "stdout",
     "output_type": "stream",
     "text": [
      "range(4, 16)\n"
     ]
    }
   ],
   "source": [
    "For me, 2 & 3 seem equally good but answer options are: \n",
    "    1. 1 & 2 (better than 3)\n",
    "    2. 1\n",
    "    3. All good\n",
    "    4. 2 \n",
    "    5. 3 \n",
    "    \n",
    "    Going with option 3. Correct answer was option 1. But it took the longest!! \n",
    "    When I ran it again, 1 became fastest. What the heck! \n",
    "    Changed the inputs and then the fastest is still changing.\n",
    "    \n",
    "    For really high inputs, option 1 seems to be slightly faster. Again not always. \n",
    "    Tried in both spyder and here (notebook). \n",
    "    \n",
    "    Not very conclusive. "
   ]
  },
  {
   "cell_type": "markdown",
   "metadata": {},
   "source": [
    "3. Special condition \n",
    "\n",
    "Which of the following is different than the rest?\n",
    "\n",
    "1. not (a == b)\n",
    "2. a == not b\n",
    "3. not a == b\n",
    "4. a == (not b)"
   ]
  },
  {
   "cell_type": "code",
   "execution_count": 48,
   "metadata": {},
   "outputs": [],
   "source": [
    "a = 2\n",
    "b = 3"
   ]
  },
  {
   "cell_type": "code",
   "execution_count": 49,
   "metadata": {},
   "outputs": [
    {
     "data": {
      "text/plain": [
       "True"
      ]
     },
     "execution_count": 49,
     "metadata": {},
     "output_type": "execute_result"
    }
   ],
   "source": [
    "not (a == b)"
   ]
  },
  {
   "cell_type": "code",
   "execution_count": 50,
   "metadata": {},
   "outputs": [
    {
     "data": {
      "text/plain": [
       "False"
      ]
     },
     "execution_count": 50,
     "metadata": {},
     "output_type": "execute_result"
    }
   ],
   "source": [
    "not a"
   ]
  },
  {
   "cell_type": "code",
   "execution_count": 51,
   "metadata": {},
   "outputs": [
    {
     "ename": "SyntaxError",
     "evalue": "invalid syntax (<ipython-input-51-112f780356d8>, line 1)",
     "output_type": "error",
     "traceback": [
      "\u001b[0;36m  File \u001b[0;32m\"<ipython-input-51-112f780356d8>\"\u001b[0;36m, line \u001b[0;32m1\u001b[0m\n\u001b[0;31m    a == not b\u001b[0m\n\u001b[0m           ^\u001b[0m\n\u001b[0;31mSyntaxError\u001b[0m\u001b[0;31m:\u001b[0m invalid syntax\n"
     ]
    }
   ],
   "source": [
    "a == not b"
   ]
  },
  {
   "cell_type": "code",
   "execution_count": 52,
   "metadata": {},
   "outputs": [
    {
     "data": {
      "text/plain": [
       "True"
      ]
     },
     "execution_count": 52,
     "metadata": {},
     "output_type": "execute_result"
    }
   ],
   "source": [
    "not a == b"
   ]
  },
  {
   "cell_type": "code",
   "execution_count": 53,
   "metadata": {},
   "outputs": [
    {
     "data": {
      "text/plain": [
       "False"
      ]
     },
     "execution_count": 53,
     "metadata": {},
     "output_type": "execute_result"
    }
   ],
   "source": [
    "a == (not b)"
   ]
  },
  {
   "cell_type": "markdown",
   "metadata": {},
   "source": [
    "3rd option is incorrect syntax. "
   ]
  },
  {
   "cell_type": "code",
   "execution_count": 69,
   "metadata": {},
   "outputs": [
    {
     "data": {
      "text/plain": [
       "0"
      ]
     },
     "execution_count": 69,
     "metadata": {},
     "output_type": "execute_result"
    }
   ],
   "source": [
    "5//10\n"
   ]
  },
  {
   "cell_type": "code",
   "execution_count": 70,
   "metadata": {},
   "outputs": [
    {
     "data": {
      "text/plain": [
       "0.5"
      ]
     },
     "execution_count": 70,
     "metadata": {},
     "output_type": "execute_result"
    }
   ],
   "source": [
    "5/10"
   ]
  },
  {
   "cell_type": "markdown",
   "metadata": {},
   "source": [
    "4. Language Differences\n",
    "\n",
    "For which of the inputs would the 2 functions differ in output? \n",
    "\n",
    "* Python: \n",
    "def division(x,y):\n",
    "    return x // y\n",
    "\n",
    "* Java/ C++:\n",
    "int division(int x,int y) {\n",
    "    return x / y;\n",
    "}\n",
    "   \n"
   ]
  },
  {
   "cell_type": "code",
   "execution_count": 75,
   "metadata": {},
   "outputs": [
    {
     "data": {
      "text/plain": [
       "-4"
      ]
     },
     "metadata": {},
     "output_type": "display_data"
    },
    {
     "data": {
      "text/plain": [
       "3"
      ]
     },
     "metadata": {},
     "output_type": "display_data"
    },
    {
     "data": {
      "text/plain": [
       "0"
      ]
     },
     "metadata": {},
     "output_type": "display_data"
    },
    {
     "data": {
      "text/plain": [
       "1"
      ]
     },
     "metadata": {},
     "output_type": "display_data"
    },
    {
     "data": {
      "text/plain": [
       "-4"
      ]
     },
     "metadata": {},
     "output_type": "display_data"
    },
    {
     "data": {
      "text/plain": [
       "-3"
      ]
     },
     "metadata": {},
     "output_type": "display_data"
    },
    {
     "data": {
      "text/plain": [
       "3"
      ]
     },
     "metadata": {},
     "output_type": "display_data"
    },
    {
     "data": {
      "text/plain": [
       "0"
      ]
     },
     "metadata": {},
     "output_type": "display_data"
    },
    {
     "data": {
      "text/plain": [
       "1"
      ]
     },
     "metadata": {},
     "output_type": "display_data"
    },
    {
     "data": {
      "text/plain": [
       "-4"
      ]
     },
     "metadata": {},
     "output_type": "display_data"
    }
   ],
   "source": [
    "def division(x,y):\n",
    "    return x // y\n",
    "\n",
    "display(division(15,-4))\n",
    "display(division(-10,-3)) \n",
    "display(division(5,10))\n",
    "display(division(17,13))\n",
    "display(division(-8,2))\n",
    "\n",
    "display(int(15/-4))\n",
    "display(int(-10/-3))\n",
    "display(int(5/10))\n",
    "display(int(17/13))\n",
    "display(int(-8/2))"
   ]
  },
  {
   "cell_type": "markdown",
   "metadata": {},
   "source": [
    "I dont think running in a different language is required here. If the expected output in the normal division function\n",
    "is expected to be integer then the fractional part will be truncated without rounding, whereas in the // function, \n",
    "the quotient is floored, rounded to nearest integer <= quotient. \n",
    "Hence for one of the inputs where rounding to lowest closest integer would result in a different value than the quotient\n",
    "with fraction removed is 15, -4.\n"
   ]
  },
  {
   "cell_type": "markdown",
   "metadata": {},
   "source": [
    "5. Count bits"
   ]
  },
  {
   "cell_type": "code",
   "execution_count": null,
   "metadata": {},
   "outputs": [],
   "source": [
    "# import math\n",
    "# (math.log(50))/(math.log(2))\n",
    "\n",
    "def countBits(n):\n",
    "    return n.bit_length()"
   ]
  },
  {
   "cell_type": "markdown",
   "metadata": {},
   "source": [
    "6. Check for integer : do mod only if integer"
   ]
  },
  {
   "cell_type": "code",
   "execution_count": 79,
   "metadata": {},
   "outputs": [],
   "source": [
    "def modulus(n):\n",
    "    if isinstance(n,int):\n",
    "        return n % 2\n",
    "    else:\n",
    "        return -1\n",
    "#isinstance(object,type) is the function"
   ]
  },
  {
   "cell_type": "code",
   "execution_count": 81,
   "metadata": {},
   "outputs": [
    {
     "data": {
      "text/plain": [
       "1"
      ]
     },
     "execution_count": 81,
     "metadata": {},
     "output_type": "execute_result"
    }
   ],
   "source": [
    "5 % 4"
   ]
  },
  {
   "cell_type": "code",
   "execution_count": 2,
   "metadata": {},
   "outputs": [
    {
     "data": {
      "text/plain": [
       "4"
      ]
     },
     "metadata": {},
     "output_type": "display_data"
    }
   ],
   "source": [
    "arr = [2,4,1,5]\n",
    "display(len(arr))"
   ]
  },
  {
   "cell_type": "markdown",
   "metadata": {},
   "source": [
    "7. Implement the missing code, denoted by ellipses. You may not modify the pre-existing code.\n",
    "\n",
    "To understand how efficient the built-in Python sorting function is, you decided to implement your own simple sorting algorithm and compare its speed to the speed of the Python sorting. Write a function that, given an array of integers arr, sorts its elements in ascending order.\n",
    "\n",
    "Hint: with Python it's possible to swap several elements in a single line. To solve the task, use this knowledge to fill in both of the blanks (...).\n",
    "\n",
    "def simpleSort(arr):\n",
    "\n",
    "    n = len(arr)\n",
    "\n",
    "    for i in range(n):\n",
    "        j = 0\n",
    "        stop = n - i\n",
    "        while j < stop - 1:\n",
    "            if arr[j] > arr[j + 1]:\n",
    "                ... = ...\n",
    "            j += 1\n",
    "    return arr"
   ]
  },
  {
   "cell_type": "code",
   "execution_count": 5,
   "metadata": {},
   "outputs": [
    {
     "data": {
      "text/plain": [
       "[457, 1000, 1020, 1040, 1100]"
      ]
     },
     "execution_count": 5,
     "metadata": {},
     "output_type": "execute_result"
    }
   ],
   "source": [
    "def simpleSort(arr):\n",
    "\n",
    "    n = len(arr)\n",
    "\n",
    "    for i in range(n):\n",
    "        j = 0\n",
    "        stop = n - i\n",
    "        while j < stop - 1:\n",
    "            if arr[j] > arr[j + 1]:\n",
    "                arr[j], arr[j+1] = arr[j+1], arr[j]\n",
    "            j += 1\n",
    "    return arr\n",
    "\n",
    "# simpleSort([7,3,4,6,8])\n",
    "# simpleSort([1000,1020,1040,1100,457])"
   ]
  },
  {
   "cell_type": "markdown",
   "metadata": {},
   "source": [
    "8. Base Conversion"
   ]
  },
  {
   "cell_type": "markdown",
   "metadata": {},
   "source": [
    "Implement the missing code, denoted by ellipses. You may not modify the pre-existing code.\n",
    "\n",
    "Your university professor decided to have a little fun and asked the class to implement a function that, given a number n and a base x, converts the number from base x to base 16. To make things more interesting, he announced that the first student to write the solution will have to answer fewer question than the rest of the class during the final exam.\n",
    "\n",
    "Laughing devilishly, you asked if it was okay to use a language of your choice, and the unsuspecting professor answered \"yes\". It's settled then: Python is your language of choice!\n",
    "\n",
    "Now you're bound to win. Implement a function that, given an integer number n and a base x, converts n from base x to base 16.\n",
    "\n",
    "Example\n",
    "\n",
    "For n = \"1302\" and x = 5, the output should be\n",
    "baseConversion(n, x) = \"ca\".\n",
    "\n",
    "Here's why:\n",
    "13025 = 20210 = ca16.\n",
    "\n",
    "\n",
    "def baseConversion(n, x):\n",
    "    return ..."
   ]
  },
  {
   "cell_type": "code",
   "execution_count": null,
   "metadata": {},
   "outputs": [],
   "source": [
    "def baseConversion(n, x):\n",
    "    return hex(int(n,x))[2:] \n",
    "# [2:] to remove the 0x in the beginning\n",
    "#1. Convert given data to integer\n",
    "#2. Convert integer to hex"
   ]
  },
  {
   "cell_type": "markdown",
   "metadata": {},
   "source": [
    "Implement the missing code, denoted by ellipses. You may not modify the pre-existing code.\n",
    "\n",
    "You've just started to study impartial games, and came across an interesting theory. The theory is quite complicated, but it can be narrowed down to the following statements: solutions to all such games can be found with the mex function. Mex is an abbreviation of minimum excludant: for the given set s it finds the minimum non-negative integer that is not present in s.\n",
    "\n",
    "You don't yet know how to implement such a function efficiently, so would like to create a simplified version. For the given set s and given an upperBound, implement a function that will find its mex if it's smaller than upperBound or return upperBound instead.\n",
    "\n",
    "Hint: for loops also have an else clause which executes when the loop completes normally, i.e. without encountering any breaks\n",
    "\n",
    "Example\n",
    "\n",
    "    For s = [0, 4, 2, 3, 1, 7] and upperBound = 10,\n",
    "    the output should be\n",
    "    mexFunction(s, upperBound) = 5.\n",
    "\n",
    "    5 is the smallest non-negative integer that is not present in s, and it is smaller than upperBound.\n",
    "\n",
    "    For s = [0, 4, 2, 3, 1, 7] and upperBound = 3,\n",
    "    the output should be\n",
    "    mexFunction(s, upperBound) = 3.\n",
    "\n",
    "    The minimum excludant for the given set is 5, but it's greater than upperBound, so the output should be 3.\n",
    "\n",
    "Input/Output\n",
    "\n",
    "    [execution time limit] 4 seconds (py)\n",
    "\n",
    "    [input] array.integer s\n",
    "\n",
    "    Array of distinct non-negative integers.\n",
    "\n",
    "    Guaranteed constraints:\n",
    "    0 ≤ s.length ≤ 100,\n",
    "    0 ≤ s[i] ≤ 100.\n",
    "\n",
    "    [input] integer upperBound\n",
    "\n",
    "    A positive integer.\n",
    "\n",
    "    Guaranteed constraints:\n",
    "    1 ≤ upperBound ≤ 100.\n",
    "\n",
    "    [output] integer\n",
    "\n",
    "    Mex of s if it's smaller than upperBound, or upperBound instead.\n",
    "    \n",
    "def mexFunction(s, upperBound):\n",
    "found = -1\n",
    "for i in range(upperBound):\n",
    "    if not i in s:\n",
    "        found = i\n",
    "        break\n",
    "else:\n",
    "    ...\n",
    "\n",
    "return found\n"
   ]
  },
  {
   "cell_type": "code",
   "execution_count": null,
   "metadata": {},
   "outputs": [],
   "source": [
    "def mexFunction(s, upperBound):\n",
    "    found = -1\n",
    "    for i in range(upperBound):\n",
    "        if not i in s:\n",
    "            found = i\n",
    "            break\n",
    "    else:\n",
    "        found = upperBound\n",
    "\n",
    "    return found\n"
   ]
  },
  {
   "cell_type": "markdown",
   "metadata": {},
   "source": [
    "List Beautifier"
   ]
  },
  {
   "cell_type": "markdown",
   "metadata": {},
   "source": [
    "Implement the missing code, denoted by ellipses. You may not modify the pre-existing code.\n",
    "\n",
    "Let's call a list beautiful if its first element is equal to its last element, or if a list is empty. Given a list a, your task is to chop off its first and its last element until it becomes beautiful. Implement a function that will make the given a beautiful as described, and return the resulting list as an answer.\n",
    "\n",
    "Hint: one of the features introduced in Python 3 called extended unpacking could help here.\n",
    "\n",
    "Example\n",
    "\n",
    "    For a = [3, 4, 2, 4, 38, 4, 5, 3, 2], the output should be\n",
    "    listBeautifier(a) = [4, 38, 4].\n",
    "\n",
    "    Here's how the answer is obtained:\n",
    "    [3, 4, 2, 4, 38, 4, 5, 3, 2] => [4, 2, 4, 38, 4, 5, 3] => [2, 4, 38, 4, 5] => [4, 38, 4].\n",
    "\n",
    "    For a = [1, 4, -5], the output should be\n",
    "    listBeautifier(a) = [4].\n",
    "\n",
    "def listBeautifier(a):\n",
    "    res = a[:]\n",
    "    while res and res[0] != res[-1]:\n",
    "        ... = res\n",
    "    return res"
   ]
  },
  {
   "cell_type": "code",
   "execution_count": 9,
   "metadata": {},
   "outputs": [
    {
     "data": {
      "text/plain": [
       "[4, 2, 4, 38, 4, 5, 3]"
      ]
     },
     "metadata": {},
     "output_type": "display_data"
    }
   ],
   "source": [
    "a = [3, 4, 2, 4, 38, 4, 5, 3, 2]\n",
    "a[1:-1]  #without extended unpacking \n",
    "\n",
    "first,*all,last = a\n",
    "display(all)\n",
    "\n"
   ]
  },
  {
   "cell_type": "code",
   "execution_count": 10,
   "metadata": {},
   "outputs": [
    {
     "data": {
      "text/plain": [
       "[4, 38, 4]"
      ]
     },
     "execution_count": 10,
     "metadata": {},
     "output_type": "execute_result"
    }
   ],
   "source": [
    "#Solution with extended unpacking\n",
    "def listBeautifier(a):\n",
    "    res = a[:]\n",
    "    while res and res[0] != res[-1]:\n",
    "        [first,*res,last] = res\n",
    "    return res\n",
    "\n",
    "listBeautifier([3, 4, 2, 4, 38, 4, 5, 3, 2])"
   ]
  },
  {
   "cell_type": "code",
   "execution_count": null,
   "metadata": {},
   "outputs": [],
   "source": []
  }
 ],
 "metadata": {
  "kernelspec": {
   "display_name": "Python 3",
   "language": "python",
   "name": "python3"
  },
  "language_info": {
   "codemirror_mode": {
    "name": "ipython",
    "version": 3
   },
   "file_extension": ".py",
   "mimetype": "text/x-python",
   "name": "python",
   "nbconvert_exporter": "python",
   "pygments_lexer": "ipython3",
   "version": "3.7.3"
  },
  "varInspector": {
   "cols": {
    "lenName": 16,
    "lenType": 16,
    "lenVar": 40
   },
   "kernels_config": {
    "python": {
     "delete_cmd_postfix": "",
     "delete_cmd_prefix": "del ",
     "library": "var_list.py",
     "varRefreshCmd": "print(var_dic_list())"
    },
    "r": {
     "delete_cmd_postfix": ") ",
     "delete_cmd_prefix": "rm(",
     "library": "var_list.r",
     "varRefreshCmd": "cat(var_dic_list()) "
    }
   },
   "types_to_exclude": [
    "module",
    "function",
    "builtin_function_or_method",
    "instance",
    "_Feature"
   ],
   "window_display": false
  }
 },
 "nbformat": 4,
 "nbformat_minor": 2
}
