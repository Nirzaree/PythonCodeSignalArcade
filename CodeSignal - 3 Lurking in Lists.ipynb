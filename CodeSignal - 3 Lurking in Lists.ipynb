{
 "cells": [
  {
   "cell_type": "markdown",
   "metadata": {},
   "source": [
    "1. List Multiplication"
   ]
  },
  {
   "cell_type": "markdown",
   "metadata": {},
   "source": [
    "You've come across the following piece of code: \n",
    "\n",
    "c = a * b\n",
    "\n",
    "Could the following be possible outcomes? \n",
    "\n",
    "1. c is list a repeated b times\n",
    "2. c is list b repeated a times\n",
    "\n",
    "Options:\n",
    "1. Option 1\n",
    "2. Option 2 \n",
    "3. No to both\n",
    "4. Yes to both"
   ]
  },
  {
   "cell_type": "markdown",
   "metadata": {},
   "source": [
    "My initial answer was 3. No to both thinking that if both are lists, then it would be elementwise multiplication. \n",
    "But then it occurred that both the options could be correct. Correct answer is 4. Yes to both. "
   ]
  },
  {
   "cell_type": "markdown",
   "metadata": {},
   "source": [
    "2. Lists Concatenation"
   ]
  },
  {
   "cell_type": "markdown",
   "metadata": {},
   "source": [
    "There is a bug in one line of the code. Find it, fix it, and submit.\n",
    "\n",
    "Given two lists lst1 and lst2, your task is to return a list formed by the elements of lst1 followed by the elements of lst2.\n",
    "\n",
    "Note: this is a bugfix task, which means that the function is already implemented but there is a bug in one of its lines. Your task is to find and fix it.\n",
    "\n",
    "Example\n",
    "\n",
    "For lst1 = [2, 2, 1] and lst2 = [10, 11], the output should be\n",
    "listsConcatenation(lst1, lst2) = [2, 2, 1, 10, 11].\n",
    "\n",
    "Input/Output\n",
    "\n",
    "    [execution time limit] 4 seconds (py)\n",
    "\n",
    "    [input] array.integer lst1\n",
    "\n",
    "    Guaranteed constraints:\n",
    "    0 ≤ lst1.length ≤ 20,\n",
    "    -106 ≤ lst1[i] ≤ 106.\n",
    "\n",
    "    [input] array.integer lst2\n",
    "\n",
    "    Guaranteed constraints:\n",
    "    0 ≤ lst2.length ≤ 20,\n",
    "    -106 ≤ lst2[i] ≤ 106.\n",
    "\n",
    "    [output] array.integer\n",
    "\n",
    "[Python 2] Syntax Tips\n",
    "\n",
    "def listsConcatenation(lst1, lst2):\n",
    "    res = lst1\n",
    "    res.append(lst2)\n",
    "    return res"
   ]
  },
  {
   "cell_type": "code",
   "execution_count": 1,
   "metadata": {},
   "outputs": [
    {
     "data": {
      "text/plain": [
       "[2, 2, 1, 10, 11]"
      ]
     },
     "execution_count": 1,
     "metadata": {},
     "output_type": "execute_result"
    }
   ],
   "source": [
    "#extend instead of append\n",
    "def listsConcatenation(lst1, lst2):\n",
    "    res = lst1\n",
    "    res.extend(lst2)\n",
    "    return res\n",
    "\n",
    "listsConcatenation([2, 2, 1],[10,11])"
   ]
  },
  {
   "cell_type": "markdown",
   "metadata": {},
   "source": [
    "3. Two teams"
   ]
  },
  {
   "cell_type": "markdown",
   "metadata": {},
   "source": [
    "Implement the missing code, denoted by ellipses. You may not modify the pre-existing code.\n",
    "\n",
    "There are some students standing in a row, each has some number written on their back. The students are about to divide into two teams by counting off by twos: those standing at the even positions (0-based) will go to team A, and those standing at the odd position will join the team B.\n",
    "\n",
    "Your task is to calculate the difference between the sums of numbers written on the backs of the students that will join team A, and those written on the backs of the students that will join team B.\n",
    "\n",
    "Example\n",
    "\n",
    "For students = [1, 11, 13, 6, 14], the output should be\n",
    "twoTeams(students) = 11.\n",
    "\n",
    "Students with numbers 1, 13 and 14 will join team A, and students with numbers 11 and 6 will join team B. Thus, the answer is (1 + 13 + 14) - (11 + 6) = 11.\n",
    "\n",
    "\n",
    "def twoTeams(students):\n",
    "    return ..."
   ]
  },
  {
   "cell_type": "code",
   "execution_count": 4,
   "metadata": {},
   "outputs": [
    {
     "data": {
      "text/plain": [
       "11"
      ]
     },
     "execution_count": 4,
     "metadata": {},
     "output_type": "execute_result"
    }
   ],
   "source": [
    "#understand some cool list stuff in python\n",
    "students = [1,11,13,6,14]\n",
    "sum(students[1::2])\n",
    "sum(students[0::2]) #oh looks like first digit is the start index and the second one is the increment\n",
    "\n",
    "#hmm\n",
    "# so then \n",
    "sum(students[0::2]) - sum(students[1::2])"
   ]
  },
  {
   "cell_type": "code",
   "execution_count": null,
   "metadata": {},
   "outputs": [],
   "source": [
    "def twoTeams(students):\n",
    "    return sum(students[0::2]) - sum(students[1::2])"
   ]
  },
  {
   "cell_type": "markdown",
   "metadata": {},
   "source": [
    "4. Remove Tasks"
   ]
  },
  {
   "cell_type": "markdown",
   "metadata": {},
   "source": [
    "Implement the missing code, denoted by ellipses. You may not modify the pre-existing code.\n",
    "\n",
    "Today is a good day: it's the kth year since you started to work at the company, which means you have to have a party today. In order to get home earlier and prepare for the jamboree, you need to get home early. You decided to remove each kth tasks from your toDo list, since today is your day and you can do whatever you please.\n",
    "\n",
    "Given the list of task ids in your toDo list, remove each kth task from it and return the list of remaining tasks.\n",
    "\n",
    "Example\n",
    "\n",
    "For k = 3 and toDo = [1237, 2847, 27485, 2947, 1, 247, 374827, 22],\n",
    "the output should be\n",
    "removeTasks(k, toDo) = [1237, 2847, 2947, 1, 374827, 22].\n",
    "\n",
    "\n",
    "def removeTasks(k, toDo):\n",
    "    del ...\n",
    "    return toDo\n"
   ]
  },
  {
   "cell_type": "code",
   "execution_count": 9,
   "metadata": {},
   "outputs": [
    {
     "data": {
      "text/plain": [
       "[27485, 247]"
      ]
     },
     "execution_count": 9,
     "metadata": {},
     "output_type": "execute_result"
    }
   ],
   "source": [
    "toDo = [1237, 2847, 27485, 2947, 1, 247, 374827, 22]\n",
    "k = 3\n",
    "toDo[(k-1)::k]"
   ]
  },
  {
   "cell_type": "code",
   "execution_count": null,
   "metadata": {},
   "outputs": [],
   "source": [
    "# Solution\n",
    "def removeTasks(k, toDo):\n",
    "    del toDo[(k-1)::k]\n",
    "    return toDo\n"
   ]
  },
  {
   "cell_type": "code",
   "execution_count": 11,
   "metadata": {},
   "outputs": [
    {
     "data": {
      "text/plain": [
       "'This is your list: [1, 2, 3, 4, 5]'"
      ]
     },
     "execution_count": 11,
     "metadata": {},
     "output_type": "execute_result"
    }
   ],
   "source": [
    "def printList(lst):   \n",
    "    return \"This is your list: {}\".format(lst)\n",
    "\n",
    "printList(\"[1, 2, 3, 4, 5]\")"
   ]
  },
  {
   "cell_type": "code",
   "execution_count": null,
   "metadata": {},
   "outputs": [],
   "source": []
  }
 ],
 "metadata": {
  "kernelspec": {
   "display_name": "Python 3",
   "language": "python",
   "name": "python3"
  },
  "language_info": {
   "codemirror_mode": {
    "name": "ipython",
    "version": 3
   },
   "file_extension": ".py",
   "mimetype": "text/x-python",
   "name": "python",
   "nbconvert_exporter": "python",
   "pygments_lexer": "ipython3",
   "version": "3.7.3"
  },
  "varInspector": {
   "cols": {
    "lenName": 16,
    "lenType": 16,
    "lenVar": 40
   },
   "kernels_config": {
    "python": {
     "delete_cmd_postfix": "",
     "delete_cmd_prefix": "del ",
     "library": "var_list.py",
     "varRefreshCmd": "print(var_dic_list())"
    },
    "r": {
     "delete_cmd_postfix": ") ",
     "delete_cmd_prefix": "rm(",
     "library": "var_list.r",
     "varRefreshCmd": "cat(var_dic_list()) "
    }
   },
   "types_to_exclude": [
    "module",
    "function",
    "builtin_function_or_method",
    "instance",
    "_Feature"
   ],
   "window_display": false
  }
 },
 "nbformat": 4,
 "nbformat_minor": 2
}
