{
 "cells": [
  {
   "cell_type": "markdown",
   "metadata": {},
   "source": [
    "Chess Teams"
   ]
  },
  {
   "cell_type": "markdown",
   "metadata": {},
   "source": [
    "Implement the missing code, denoted by ellipses. You may not modify the pre-existing code.\n",
    "\n",
    "A grand Team Chess Tournament will be held at your University. Two teams, smarties and cleveries, will clash to determine whose chess skills are better. The teams have the same number of members, and the ith member of smarties will play against the ith member of cleveries in the ith game for each valid i\n",
    "\n",
    "Given the names of the players of both smarties and cleveries, return the games in the order they will be played.\n",
    "\n",
    "Example\n",
    "\n",
    "For smarties = [\"Jane\", \"Bob\", \"Peter\"] and\n",
    "cleveries = [\"Oscar\", \"Lidia\", \"Ann\"], the output should be\n",
    "\n",
    "chessTeams(smarties, cleveries) = [[\"Jane\",  \"Oscar\"],\n",
    "                                   [\"Bob\",   \"Lidia\"],\n",
    "                                   [\"Peter\", \"Ann\"]]\n"
   ]
  },
  {
   "cell_type": "code",
   "execution_count": 15,
   "metadata": {},
   "outputs": [
    {
     "data": {
      "text/plain": [
       "[['Jane', 'Oscar'], ['Bob', 'Lidia'], ['Peter', 'Ann']]"
      ]
     },
     "execution_count": 15,
     "metadata": {},
     "output_type": "execute_result"
    }
   ],
   "source": [
    "smarties = [\"Jane\", \"Bob\", \"Peter\"]\n",
    "cleveries = [\"Oscar\", \"Lidia\", \"Ann\"]\n",
    "\n",
    "# [(x,y) for x in smarties for y in cleveries]\n",
    "\n",
    "list(zip(smarties,cleveries)) #yaay works\n",
    "#now with functions: map and lambda \n",
    "\n",
    "# list(map(lambda x,y: x + ',' + y,smarties,cleveries)) #worked \n",
    "\n",
    "#another technique using map and lambda, this one from the community solutions.\n",
    "list(map(lambda x,y:list([x,y]),smarties,cleveries))\n"
   ]
  },
  {
   "cell_type": "markdown",
   "metadata": {},
   "source": [
    "Fix Result"
   ]
  },
  {
   "cell_type": "markdown",
   "metadata": {},
   "source": [
    "Implement the missing code, denoted by ellipses. You may not modify the pre-existing code.\n",
    "\n",
    "Your teacher asked you to implement a function that calculates the Answer to the Ultimate Question of Life, the Universe, and Everything and returns it as an array of integers. After several hours of hardcore coding you managed to write such a function, and it produced a quite reasonable result. However, when you decided to compare your answer with results of your classmates, you discovered that the elements of your result are roughly 10 times greater than the ones your peers got.\n",
    "\n",
    "You don't have time to investigate the problem, so you need to implement a function that will fix the given array for you. Given result, return an array of the same length, where the ith element is equal to the ith element of result with the last digit dropped.\n",
    "\n",
    "Example\n",
    "\n",
    "For result = [42, 239, 365, 50], the output should be\n",
    "fixResult(result) = [4, 23, 36, 5].\n",
    "\n",
    "Input/Output\n",
    "\n",
    "    [execution time limit] 4 seconds (py3)\n",
    "\n",
    "    [input] array.integer result\n",
    "\n",
    "    The result your function produced, where each element is greater than 9.\n",
    "\n",
    "    Guaranteed constraints:\n",
    "    0 ≤ result.length ≤ 15,\n",
    "    10 ≤ result[i] ≤ 105.\n",
    "\n",
    "    [output] array.integer\n",
    "\n",
    "    Array consisting of elements of result with last digits dropped.\n"
   ]
  },
  {
   "cell_type": "code",
   "execution_count": 18,
   "metadata": {},
   "outputs": [
    {
     "data": {
      "text/plain": [
       "[4, 4, 6, 8]"
      ]
     },
     "execution_count": 18,
     "metadata": {},
     "output_type": "execute_result"
    }
   ],
   "source": [
    "def fixResult(result):\n",
    "    def fix(x):\n",
    "        return x // 10\n",
    "\n",
    "    return list(map(fix, result))\n",
    "\n",
    "result = [42,45,67,89]\n",
    "list(fixResult(result))\n",
    "\n",
    "#map looks like the apply equivalent in python "
   ]
  },
  {
   "cell_type": "markdown",
   "metadata": {},
   "source": [
    "College Courses"
   ]
  },
  {
   "cell_type": "markdown",
   "metadata": {},
   "source": [
    "Implement the missing code, denoted by ellipses. You may not modify the pre-existing code.\n",
    "\n",
    "John has just entered a college, and should now pick several courses to take. He knows nothing, except that number x is a bad luck for him, which is why he won't even consider courses whose title consist of x letters.\n",
    "\n",
    "Given a list of courses, remove the courses with titles consisting of x letters and return the result.\n",
    "\n",
    "Example\n",
    "\n",
    "For x = 7 and\n",
    "courses = [\"Art\", \"Finance\", \"Business\", \"Speech\", \"History\", \"Writing\", \"Statistics\"],\n",
    "the output should be\n",
    "collegeCourses(x, courses) = [\"Art\", \"Business\", \"Speech\", \"Statistics\"].\n",
    "\n"
   ]
  },
  {
   "cell_type": "code",
   "execution_count": 25,
   "metadata": {},
   "outputs": [
    {
     "data": {
      "text/plain": [
       "['Art', 'Business', 'Speech', 'Statistics']"
      ]
     },
     "execution_count": 25,
     "metadata": {},
     "output_type": "execute_result"
    }
   ],
   "source": [
    "def collegeCourses(x, courses):\n",
    "    def shouldConsider(course):\n",
    "        return len(course) != x\n",
    "\n",
    "    return list(filter(shouldConsider, courses))\n",
    "\n",
    "x = 7 \n",
    "courses = [\"Art\", \"Finance\", \"Business\", \"Speech\", \"History\", \"Writing\", \"Statistics\"]\n",
    "\n",
    "collegeCourses(x,courses)\n",
    "\n",
    "#new thing learnt. filter function. "
   ]
  },
  {
   "cell_type": "markdown",
   "metadata": {},
   "source": [
    "Create Histogram"
   ]
  },
  {
   "cell_type": "markdown",
   "metadata": {},
   "source": [
    "Implement the missing code, denoted by ellipses. You may not modify the pre-existing code.\n",
    "\n",
    "You noticed that one of your employees has a weird performance rate: although his performance is usually good and stable, from time to time it drops drastically. You suspect it has something to do with the famous Code of Clones series: new episodes started to come out recently, and everyone watches and rewatches them every so often.\n",
    "\n",
    "To confirm your theory, you'd like to create a histogram showing the number of assignments he completed each day in the given period. Given this assignments, return a list representing a horizontal histogram, where each bar is formed by the given character ch.\n",
    "\n",
    "Example\n",
    "\n",
    "For ch = '*' and assignments = [12, 12, 14, 3, 12, 15, 14],\n",
    "the output should be\n",
    "\n",
    "createHistogram(ch, assignments) = [\"************\",\n",
    "                                    \"************\",\n",
    "                                    \"**************\",\n",
    "                                    \"***\",\n",
    "                                    \"************\",\n",
    "                                    \"***************\",\n",
    "                                    \"**************\"]\n",
    "\n",
    "Input/Output\n",
    "\n",
    "    [execution time limit] 4 seconds (py)\n",
    "\n",
    "    [input] char ch\n",
    "\n",
    "    A character that should compose the histogram.\n",
    "\n",
    "    [input] array.integer assignments\n",
    "\n",
    "    A list of assignments your employee completed each day during some period.\n",
    "\n",
    "    Guaranteed constraints:\n",
    "    1 ≤ assignments.length ≤ 20,\n",
    "    0 ≤ assignments[i] ≤ 50.\n",
    "\n",
    "    [output] array.string\n",
    "\n",
    "    A histogram built as described above.\n"
   ]
  },
  {
   "cell_type": "code",
   "execution_count": 30,
   "metadata": {},
   "outputs": [
    {
     "data": {
      "text/plain": [
       "['************',\n",
       " '************',\n",
       " '**************',\n",
       " '***',\n",
       " '************',\n",
       " '***************',\n",
       " '**************']"
      ]
     },
     "execution_count": 30,
     "metadata": {},
     "output_type": "execute_result"
    }
   ],
   "source": [
    "ch = \"*\"\n",
    "assignments = [12, 12, 14, 3, 12, 15, 14]\n",
    "    \n",
    "[ch * x for x in assignments]    \n",
    "\n",
    "#with lambda and map\n",
    "list(map(lambda i:i*ch,assignments))"
   ]
  },
  {
   "cell_type": "code",
   "execution_count": 32,
   "metadata": {},
   "outputs": [
    {
     "data": {
      "text/plain": [
       "['************',\n",
       " '************',\n",
       " '**************',\n",
       " '***',\n",
       " '************',\n",
       " '***************',\n",
       " '**************']"
      ]
     },
     "metadata": {},
     "output_type": "display_data"
    },
    {
     "data": {
      "text/plain": [
       "['************',\n",
       " '************',\n",
       " '**************',\n",
       " '***',\n",
       " '************',\n",
       " '***************',\n",
       " '**************']"
      ]
     },
     "metadata": {},
     "output_type": "display_data"
    }
   ],
   "source": [
    "#solution1\n",
    "def createHistogram1(ch, assignments):\n",
    "    return [ch * x for x in assignments]\n",
    "#solution2\n",
    "def createHistogram2(ch, assignments):\n",
    "    return list(map(lambda datarow:datarow*ch,assignments))\n",
    "\n",
    "ch = \"*\"\n",
    "assignments = [12, 12, 14, 3, 12, 15, 14]\n",
    "\n",
    "display(createHistogram1(ch,assignments))\n",
    "display(createHistogram2(ch,assignments))"
   ]
  },
  {
   "cell_type": "code",
   "execution_count": 36,
   "metadata": {},
   "outputs": [
    {
     "ename": "NameError",
     "evalue": "name 'mul' is not defined",
     "output_type": "error",
     "traceback": [
      "\u001b[0;31m---------------------------------------------------------------------------\u001b[0m",
      "\u001b[0;31mNameError\u001b[0m                                 Traceback (most recent call last)",
      "\u001b[0;32m<ipython-input-36-bfe86b1b571b>\u001b[0m in \u001b[0;36m<module>\u001b[0;34m\u001b[0m\n\u001b[1;32m      1\u001b[0m \u001b[0;32mimport\u001b[0m \u001b[0mfunctools\u001b[0m\u001b[0;34m\u001b[0m\u001b[0;34m\u001b[0m\u001b[0m\n\u001b[1;32m      2\u001b[0m \u001b[0mdenominators\u001b[0m \u001b[0;34m=\u001b[0m \u001b[0;34m[\u001b[0m\u001b[0;36m2\u001b[0m\u001b[0;34m,\u001b[0m \u001b[0;36m3\u001b[0m\u001b[0;34m,\u001b[0m \u001b[0;36m4\u001b[0m\u001b[0;34m,\u001b[0m \u001b[0;36m5\u001b[0m\u001b[0;34m,\u001b[0m \u001b[0;36m6\u001b[0m\u001b[0;34m]\u001b[0m\u001b[0;34m\u001b[0m\u001b[0;34m\u001b[0m\u001b[0m\n\u001b[0;32m----> 3\u001b[0;31m \u001b[0mfunctools\u001b[0m\u001b[0;34m.\u001b[0m\u001b[0mreduce\u001b[0m\u001b[0;34m(\u001b[0m\u001b[0mmul\u001b[0m\u001b[0;34m,\u001b[0m\u001b[0mdenominators\u001b[0m\u001b[0;34m)\u001b[0m\u001b[0;34m\u001b[0m\u001b[0;34m\u001b[0m\u001b[0m\n\u001b[0m",
      "\u001b[0;31mNameError\u001b[0m: name 'mul' is not defined"
     ]
    }
   ],
   "source": [
    "import functools\n",
    "denominators = [2, 3, 4, 5, 6]\n",
    "functools.reduce(lambda x: ,denominators)"
   ]
  },
  {
   "cell_type": "markdown",
   "metadata": {},
   "source": [
    "Least Common Denominator"
   ]
  },
  {
   "cell_type": "markdown",
   "metadata": {},
   "source": [
    "Implement the missing code, denoted by ellipses. You may not modify the pre-existing code.\n",
    "\n",
    "You need to sum up a bunch of fractions that have different denominators. In order to do this, you need to find the least common denominator of all the fractions. As a professional programmer, you know that the least common denominator is in fact their LCM.\n",
    "\n",
    "For the given list of denominators, find the least common denominator by finding their LCM.\n",
    "\n",
    "Example\n",
    "\n",
    "For denominators = [2, 3, 4, 5, 6], the output should be\n",
    "leastCommonDenominator(denominators) = 60.\n",
    "\n",
    "Input/Output\n",
    "\n",
    "    [execution time limit] 4 seconds (py3)\n",
    "\n",
    "    [input] array.integer denominators\n",
    "\n",
    "    The list of denominators, where each denominator is a positive integer.\n",
    "\n",
    "    Guaranteed constraints:\n",
    "    1 ≤ denominators.length ≤ 10,\n",
    "    2 ≤ denominators[i] ≤ 50.\n",
    "\n",
    "    [output] integer\n",
    "\n",
    "    The least common denominator.\n"
   ]
  },
  {
   "cell_type": "code",
   "execution_count": 6,
   "metadata": {},
   "outputs": [
    {
     "data": {
      "text/plain": [
       "60"
      ]
     },
     "execution_count": 6,
     "metadata": {},
     "output_type": "execute_result"
    }
   ],
   "source": [
    "54 // 6\n",
    "\n",
    "50 // 6\n",
    "\n",
    "from math import gcd\n",
    "import functools\n",
    "\n",
    "def leastCommonDenominator(denominators):\n",
    "    return functools.reduce(lambda x,y: (x * y) // gcd(x,y),denominators)\n",
    "\n",
    "leastCommonDenominator([2, 3, 4, 5, 6])"
   ]
  },
  {
   "cell_type": "code",
   "execution_count": null,
   "metadata": {},
   "outputs": [],
   "source": [
    "from fractions import gcd\n",
    "\n",
    "def leastCommonDenominator(denominators):\n",
    "    return functools.reduce(lambda x,y: (x * y) // gcd(x,y),denominators)\n"
   ]
  }
 ],
 "metadata": {
  "kernelspec": {
   "display_name": "Python 3",
   "language": "python",
   "name": "python3"
  },
  "language_info": {
   "codemirror_mode": {
    "name": "ipython",
    "version": 3
   },
   "file_extension": ".py",
   "mimetype": "text/x-python",
   "name": "python",
   "nbconvert_exporter": "python",
   "pygments_lexer": "ipython3",
   "version": "3.7.3"
  },
  "varInspector": {
   "cols": {
    "lenName": 16,
    "lenType": 16,
    "lenVar": 40
   },
   "kernels_config": {
    "python": {
     "delete_cmd_postfix": "",
     "delete_cmd_prefix": "del ",
     "library": "var_list.py",
     "varRefreshCmd": "print(var_dic_list())"
    },
    "r": {
     "delete_cmd_postfix": ") ",
     "delete_cmd_prefix": "rm(",
     "library": "var_list.r",
     "varRefreshCmd": "cat(var_dic_list()) "
    }
   },
   "types_to_exclude": [
    "module",
    "function",
    "builtin_function_or_method",
    "instance",
    "_Feature"
   ],
   "window_display": false
  }
 },
 "nbformat": 4,
 "nbformat_minor": 2
}
