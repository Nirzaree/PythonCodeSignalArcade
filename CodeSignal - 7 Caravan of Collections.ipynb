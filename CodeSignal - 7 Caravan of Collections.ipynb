{
 "cells": [
  {
   "cell_type": "code",
   "execution_count": null,
   "metadata": {},
   "outputs": [],
   "source": [
    "Unique Characters"
   ]
  },
  {
   "cell_type": "markdown",
   "metadata": {},
   "source": [
    "Implement the missing code, denoted by ellipses. You may not modify the pre-existing code.\n",
    "\n",
    "You need to compress a large document that consists of a small number of different characters. To choose the best encoding algorithm, you would like to look closely at the characters that comprise this document.\n",
    "\n",
    "Given a document, return an array of all unique characters that appear in it sorted by their ASCII codes.\n",
    "\n",
    "Example\n",
    "\n",
    "For document = \"Todd told Tom to trot to the timber\",\n",
    "the output should be\n",
    "uniqueCharacters(document) = [' ', 'T', 'b', 'd', 'e', 'h', 'i', 'l', 'm', 'o', 'r', 't'].\n",
    "\n",
    "Input/Output\n",
    "\n",
    "    [execution time limit] 4 seconds (py)\n",
    "\n",
    "    [input] string document\n",
    "\n",
    "    A string consisting of English letters, whitespace characters and punctuation marks.\n",
    "\n",
    "    Guaranteed constraints:\n",
    "    1 ≤ document.length ≤ 80.\n",
    "\n",
    "    [output] array.char\n",
    "\n",
    "    A sorted array of all the unique characters that appear in the document.\n",
    "\n"
   ]
  },
  {
   "cell_type": "code",
   "execution_count": 4,
   "metadata": {},
   "outputs": [
    {
     "data": {
      "text/plain": [
       "[' ',\n",
       " ',',\n",
       " 'B',\n",
       " 'a',\n",
       " 'b',\n",
       " 'c',\n",
       " 'e',\n",
       " 'h',\n",
       " 'i',\n",
       " 'l',\n",
       " 'n',\n",
       " 'o',\n",
       " 'r',\n",
       " 's',\n",
       " 't',\n",
       " 'u']"
      ]
     },
     "execution_count": 4,
     "metadata": {},
     "output_type": "execute_result"
    }
   ],
   "source": [
    "document = \"Todd told Tom to trot to the timber\"\n",
    "document.split() #does only word split \n",
    "\n",
    "set(document) #awesome \n",
    "\n",
    "#now order them by their ascii codes \n",
    "sorted(set(document)) #yaay works\n",
    "\n",
    "document = \"Brilliant, because bacon bites beat bruschetta\"\n",
    "sorted(set(document))\n",
    "\n"
   ]
  },
  {
   "cell_type": "code",
   "execution_count": null,
   "metadata": {},
   "outputs": [],
   "source": [
    "#final solution\n",
    "def uniqueCharacters(document):\n",
    "    return sorted(set(document))"
   ]
  },
  {
   "cell_type": "markdown",
   "metadata": {},
   "source": [
    "Correct Scholarships\n"
   ]
  },
  {
   "cell_type": "code",
   "execution_count": null,
   "metadata": {},
   "outputs": [],
   "source": [
    "# Implement the missing code, denoted by ellipses. You may not modify the pre-existing code.\n",
    "\n",
    "# For the upcoming academic year the Coolcoders University should decide which students will get the scholarships. Scholarships are considered to be correctly distributed if all best students have it, but not all students in the university do. Obviously, only university students should be able to get a scholarship, i.e. there should be no outsiders in the list of the students that will get a scholarships.\n",
    "\n",
    "# You are given lists of unique student ids bestStudents, scholarships and allStudents, representing ids of the best students, students that will get a scholarship and all the students in the university, respectively. Return true if the scholarships are correctly distributed and false otherwise.\n",
    "\n",
    "# Example\n",
    "\n",
    "#     For bestStudents = [3, 5], scholarships = [3, 5, 7], and\n",
    "#     allStudents = [1, 2, 3, 4, 5, 6, 7], the output should be\n",
    "#     correctScholarships(bestStudents, scholarships, allStudents) = true;\n",
    "\n",
    "#     For bestStudents = [3, 5], scholarships = [3, 5], and\n",
    "#     allStudents = [3, 5], the output should be\n",
    "#     correctScholarships(bestStudents, scholarships, allStudents) = false.\n",
    "\n",
    "#     All students get a scholarship, which is not correct.\n",
    "\n",
    "#     For bestStudents = [3], scholarships = [1, 3, 5], and\n",
    "#     allStudents = [1, 2, 3], the output should be\n",
    "#     correctScholarships(bestStudents, scholarships, allStudents) = false.\n",
    "\n",
    "#     There's no student with id 5, yet somehow he managed to get a scholarship.\n",
    "\n",
    "def correctScholarships(bestStudents, scholarships, allStudents):\n",
    "    return ..."
   ]
  },
  {
   "cell_type": "code",
   "execution_count": 10,
   "metadata": {},
   "outputs": [
    {
     "data": {
      "text/plain": [
       "3"
      ]
     },
     "metadata": {},
     "output_type": "display_data"
    },
    {
     "data": {
      "text/plain": [
       "7"
      ]
     },
     "metadata": {},
     "output_type": "display_data"
    },
    {
     "data": {
      "text/plain": [
       "True"
      ]
     },
     "execution_count": 10,
     "metadata": {},
     "output_type": "execute_result"
    }
   ],
   "source": [
    "#Logic: beststudents should be a subset of scholarships which should be a subset of allstudents \n",
    "bestStudents = [3, 5]\n",
    "scholarships = [3, 5, 7]\n",
    "allStudents = [1, 2, 3, 4, 5, 6, 7]\n",
    "set(bestStudents).issubset(scholarships)\n",
    "set(scholarships).issubset(allStudents)\n",
    "\n",
    "display(len(scholarships))\n",
    "display(len(allStudents))\n",
    "\n",
    "set(bestStudents).issubset(scholarships) & set(scholarships).issubset(allStudents) & len(scholarships) < len(allStudents)"
   ]
  },
  {
   "cell_type": "code",
   "execution_count": 11,
   "metadata": {},
   "outputs": [
    {
     "data": {
      "text/plain": [
       "True"
      ]
     },
     "execution_count": 11,
     "metadata": {},
     "output_type": "execute_result"
    }
   ],
   "source": [
    "def correctScholarships(bestStudents, scholarships, allStudents):\n",
    "    return True if (set(bestStudents).issubset(scholarships)) & (set(scholarships).issubset(allStudents)) & (len(scholarships) < len(allStudents)) else False\n",
    "\n",
    "#was not working because of brackets. "
   ]
  },
  {
   "cell_type": "code",
   "execution_count": 19,
   "metadata": {},
   "outputs": [
    {
     "data": {
      "text/plain": [
       "True"
      ]
     },
     "metadata": {},
     "output_type": "display_data"
    },
    {
     "data": {
      "text/plain": [
       "True"
      ]
     },
     "metadata": {},
     "output_type": "display_data"
    },
    {
     "data": {
      "text/plain": [
       "False"
      ]
     },
     "metadata": {},
     "output_type": "display_data"
    },
    {
     "data": {
      "text/plain": [
       "False"
      ]
     },
     "execution_count": 19,
     "metadata": {},
     "output_type": "execute_result"
    }
   ],
   "source": [
    "bestStudents = [3, 5]\n",
    "scholarships = [3, 5]\n",
    "allStudents = [3, 5]\n",
    "\n",
    "display(set(bestStudents).issubset(scholarships))\n",
    "display(set(scholarships).issubset(allStudents))\n",
    "display(len(scholarships) < len(allStudents))\n",
    "\n",
    "(set(bestStudents).issubset(scholarships)) & (set(scholarships).issubset(allStudents)) & (len(scholarships) < len(allStudents))"
   ]
  },
  {
   "cell_type": "code",
   "execution_count": null,
   "metadata": {},
   "outputs": [],
   "source": [
    "#Working solution\n",
    "def correctScholarships(bestStudents, scholarships, allStudents):\n",
    "    return True if (set(bestStudents).issubset(scholarships)) & (set(scholarships).issubset(allStudents)) & (len(scholarships) < len(allStudents)) else False\n"
   ]
  },
  {
   "cell_type": "code",
   "execution_count": 23,
   "metadata": {},
   "outputs": [
    {
     "data": {
      "text/plain": [
       "True"
      ]
     },
     "execution_count": 23,
     "metadata": {},
     "output_type": "execute_result"
    }
   ],
   "source": [
    "#more elegant\n",
    "def correctScholarships(bestStudents,scholarships,allStudents):\n",
    "    return set(bestStudents) <= set(scholarships) < set(allStudents)\n",
    "\n",
    "correctScholarships(bestStudents = [3, 5],\n",
    "scholarships = [3, 5],\n",
    "allStudents = [3, 5])\n",
    "\n",
    "correctScholarships(bestStudents = [3, 5], scholarships = [3, 5, 7], allStudents = [1, 2, 3, 4, 5, 6, 7])"
   ]
  },
  {
   "cell_type": "markdown",
   "metadata": {},
   "source": [
    "Startup Name"
   ]
  },
  {
   "cell_type": "code",
   "execution_count": null,
   "metadata": {},
   "outputs": [],
   "source": [
    "# You decided to found your own startup company and now want to choose a proper name for it. There are three large companies that you want to compete against, and since their names are quite popular you want to use their names as a starting point. You want to use only popular characters in the name of your company, but not too mainstream. You consider a character to be popular if it appears in at least two company names, and consider it to be mainstream if it appears in all three.\n",
    "\n",
    "# Given the names of the companies, return the list of characters that are popular but not mainstream sorted by their ASCII codes.\n",
    "\n",
    "# Example\n",
    "\n",
    "# For companies = [\"coolcompany\", \"nicecompany\", \"legendarycompany\"],\n",
    "# the output should be\n",
    "# startupName(companies) = ['e', 'l'].\n",
    "\n",
    "# Here's how the answer can be obtained:\n",
    "\n",
    "#     these letters appear in all three company names and are thus mainstream: 'a', 'c', 'm', 'n', 'o', 'p', 'y';\n",
    "#     these letters appear only in one of the company names and are thus not popular: 'd', 'g', 'i', 'r';\n",
    "#     the remaining letters are popular and not mainstream: 'e', 'l'.\n",
    "\n",
    "def startupName(companies):\n",
    "    comp1 = set(companies[0])\n",
    "    comp2 = set(companies[1])\n",
    "    comp3 = set(companies[2])\n",
    "    res = ...\n",
    "    return list(sorted(list(res)))"
   ]
  },
  {
   "cell_type": "code",
   "execution_count": 45,
   "metadata": {},
   "outputs": [
    {
     "data": {
      "text/plain": [
       "{'e', 'l'}"
      ]
     },
     "execution_count": 45,
     "metadata": {},
     "output_type": "execute_result"
    }
   ],
   "source": [
    "cmp1 = set(\"coolcompany\")\n",
    "cmp2 = set(\"nicecompany\")\n",
    "cmp3 = set(\"legendarycompany\")\n",
    "\n",
    "((cmp1 & cmp2) | (cmp2 & cmp3) | (cmp3 & cmp1)) - (cmp1 & cmp2 & cmp3)"
   ]
  },
  {
   "cell_type": "code",
   "execution_count": null,
   "metadata": {},
   "outputs": [],
   "source": [
    "def startupName(companies):\n",
    "    cmp1 = set(companies[0])\n",
    "    cmp2 = set(companies[1])\n",
    "    cmp3 = set(companies[2])\n",
    "    res = ((cmp1 & cmp2) | (cmp2 & cmp3) | (cmp3 & cmp1)) - (cmp1 & cmp2 & cmp3)\n",
    "    return list(sorted(list(res)))\n"
   ]
  },
  {
   "cell_type": "markdown",
   "metadata": {},
   "source": [
    "Words Recognition"
   ]
  },
  {
   "cell_type": "code",
   "execution_count": null,
   "metadata": {},
   "outputs": [],
   "source": [
    "# Implement the missing code, denoted by ellipses. You may not modify the pre-existing code.\n",
    "\n",
    "# You are working on an AI that can recognize words. To begin with, you'd like to try the following approach: for the given pair of words the AI should find two strings of sorted letters that uniquely identify these words.\n",
    "\n",
    "# Given words word1 and word2, return an array of two strings sorted lexicographically, where the first string contains characters present only in word1, and the second string contains characters present only in word2.\n",
    "\n",
    "# Example\n",
    "\n",
    "# For word1 = \"program\" and word2 = \"develop\",\n",
    "# the output should be\n",
    "# wordsRecognition(word1, word2) = [\"agmr\", \"delv\"].\n",
    "\n",
    "# Letters 'o' and 'p' are present in both words, and other letters identify them uniquely.\n",
    "\n",
    "def wordsRecognition(word1, word2):\n",
    "    def getIdentifier(w1, w2):\n",
    "        return ...\n",
    "\n",
    "    return [getIdentifier(word1, word2), getIdentifier(word2, word1)]"
   ]
  },
  {
   "cell_type": "code",
   "execution_count": 49,
   "metadata": {},
   "outputs": [
    {
     "data": {
      "text/plain": [
       "['agmr', 'delv']"
      ]
     },
     "execution_count": 49,
     "metadata": {},
     "output_type": "execute_result"
    }
   ],
   "source": [
    "def wordsRecognition(word1, word2):\n",
    "    def getIdentifier(w1, w2):\n",
    "        return ''.join(sorted(set(w1) - set(w2)))\n",
    "\n",
    "    return [getIdentifier(word1, word2), getIdentifier(word2, word1)]\n",
    "\n",
    "\n",
    "\n",
    "wordsRecognition(word1 = \"program\",\n",
    "word2 = \"develop\")"
   ]
  },
  {
   "cell_type": "code",
   "execution_count": null,
   "metadata": {},
   "outputs": [],
   "source": [
    "# You're implementing a plugin for your favorite code editor. This plugin launches various scripts depending on the open file extension. Each script is associated with exactly one extension, and the information about which script should be launched for each extension is stored in a dictionary scriptByExtension.\n",
    "\n",
    "# You are planning to add more supported extensions for some scripts, so now you would also like to store information about the extensions which each script supports. As a starting point, you'd like to obtain the (extension, script) pairs from the dictionary, sorted lexicographically by the extensions.\n",
    "\n",
    "# Implement a function that will do the job.\n",
    "\n",
    "# Example\n",
    "\n",
    "# For\n",
    "\n",
    "# scriptByExtension = {\n",
    "#   \"validate\": \"py\",\n",
    "#   \"getLimits\": \"md\",\n",
    "#   \"generateOutputs\": \"json\"\n",
    "# }\n",
    "\n",
    "# the output should be\n",
    "\n",
    "# transposeDictionary(scriptByExtension) = [[\"json\", \"generateOutputs\"], \n",
    "#                                           [\"md\", \"getLimits\"], \n",
    "#                                           [\"py\", \"validate\"]]\n",
    "\n",
    "def transposeDictionary(scriptByExtension):\n",
    "    return ...\n"
   ]
  },
  {
   "cell_type": "code",
   "execution_count": 7,
   "metadata": {},
   "outputs": [
    {
     "data": {
      "text/plain": [
       "[('json', 'generateOutputs'), ('md', 'getLimits'), ('py', 'validate')]"
      ]
     },
     "execution_count": 7,
     "metadata": {},
     "output_type": "execute_result"
    }
   ],
   "source": [
    "scriptByExtension = {\n",
    "    \"validate\": \"py\",\n",
    "    \"getLimits\": \"md\",\n",
    "    \"generateOutputs\": \"json\"\n",
    "}\n",
    "type(scriptByExtension)\n",
    "\n",
    "#invert mapping and then sort\n",
    "\n",
    "sorted({v:k for k,v in scriptByExtension.items()}.items())"
   ]
  },
  {
   "cell_type": "code",
   "execution_count": null,
   "metadata": {},
   "outputs": [],
   "source": [
    "def transposeDictionary(scriptByExtension):\n",
    "    return sorted({v:k for k,v in scriptByExtension.items()}.items()) #returns dictionary\n",
    "\n",
    "# OR\n",
    "def transposeDictionary(scriptByExtension):\n",
    "    return sorted([v,k] for k,v in scriptByExtension.items()) #returns list\n",
    "\n"
   ]
  },
  {
   "cell_type": "code",
   "execution_count": 8,
   "metadata": {},
   "outputs": [
    {
     "data": {
      "text/plain": [
       "list"
      ]
     },
     "execution_count": 8,
     "metadata": {},
     "output_type": "execute_result"
    }
   ],
   "source": [
    "whatisthistype = [3,5]\n",
    "type(whatisthistype) "
   ]
  },
  {
   "cell_type": "markdown",
   "metadata": {},
   "source": [
    "Doodled Password : (Tough one: I don't fully understand map and deque together as given here) \n"
   ]
  },
  {
   "cell_type": "code",
   "execution_count": null,
   "metadata": {},
   "outputs": [],
   "source": [
    "# Implement the missing code, denoted by ellipses. You may not modify the pre-existing code.\n",
    "\n",
    "# Your friend has been doodling during the lecture and wrote down several digits in a circle. You're wondering if these digits might form the password to your friend's computer. You're planning to prank him some time in the future, and hacking into his computer will definitely help. If the digits written in the clockwise order indeed form a password, all you need to do is figure out which digit comes in it first.\n",
    "\n",
    "# Given a list of digits as they are written in the clockwise order, find all other combinations the password could possibly have.\n",
    "\n",
    "# Example\n",
    "\n",
    "# For digits = [1, 2, 3, 4, 5], the output should be\n",
    "\n",
    "# doodledPassword(digits) = [[1, 2, 3, 4, 5], [2, 3, 4, 5, 1], [3, 4, 5, 1, 2],\n",
    "#                            [4, 5, 1, 2, 3], [5, 1, 2, 3, 4]]\n",
    "\n",
    "# Here's what your friend wrote down:\n",
    "\n",
    "# Input/Output\n",
    "\n",
    "#     [execution time limit] 4 seconds (py3)\n",
    "\n",
    "#     [input] array.integer digits\n",
    "\n",
    "#     The list of digits your friend wrote down.\n",
    "\n",
    "#     Guaranteed constraints:\n",
    "#     1 ≤ digits.length ≤ 20,\n",
    "#     0 ≤ digits[i] ≤ 9.\n",
    "\n",
    "#     [output] array.array.integer\n",
    "\n",
    "#     All possible password combinations in the following order: first the combination starting with digits[0] should go, then the one starting with digits[1], etc. The last combination should start with digits[digits.length - 1]\n",
    "\n",
    "from collections import deque\n",
    "\n",
    "def doodledPassword(digits):\n",
    "    n = len(digits)\n",
    "    res = [deque(digits) for _ in range(n)]\n",
    "    deque(map(...), 0)\n",
    "    return [list(d) for d in res]\n"
   ]
  },
  {
   "cell_type": "code",
   "execution_count": 38,
   "metadata": {},
   "outputs": [
    {
     "name": "stdout",
     "output_type": "stream",
     "text": [
      "deque([4, 5, 6, 7, 8])\n",
      "deque([5, 6, 7, 8, 4])\n"
     ]
    },
    {
     "ename": "NameError",
     "evalue": "name 'rotate' is not defined",
     "output_type": "error",
     "traceback": [
      "\u001b[0;31m---------------------------------------------------------------------------\u001b[0m",
      "\u001b[0;31mNameError\u001b[0m                                 Traceback (most recent call last)",
      "\u001b[0;32m<ipython-input-38-077190129cc3>\u001b[0m in \u001b[0;36m<module>\u001b[0;34m\u001b[0m\n\u001b[1;32m      8\u001b[0m \u001b[0mprint\u001b[0m\u001b[0;34m(\u001b[0m\u001b[0mcheck\u001b[0m\u001b[0;34m)\u001b[0m\u001b[0;34m\u001b[0m\u001b[0;34m\u001b[0m\u001b[0m\n\u001b[1;32m      9\u001b[0m \u001b[0mres\u001b[0m \u001b[0;34m=\u001b[0m \u001b[0;34m[\u001b[0m\u001b[0mdeque\u001b[0m\u001b[0;34m(\u001b[0m\u001b[0mdigits\u001b[0m\u001b[0;34m)\u001b[0m \u001b[0;32mfor\u001b[0m \u001b[0m_\u001b[0m \u001b[0;32min\u001b[0m \u001b[0mrange\u001b[0m\u001b[0;34m(\u001b[0m\u001b[0mn\u001b[0m\u001b[0;34m)\u001b[0m\u001b[0;34m]\u001b[0m\u001b[0;34m\u001b[0m\u001b[0;34m\u001b[0m\u001b[0m\n\u001b[0;32m---> 10\u001b[0;31m \u001b[0mdeque\u001b[0m\u001b[0;34m(\u001b[0m\u001b[0mmap\u001b[0m\u001b[0;34m(\u001b[0m\u001b[0mrotate\u001b[0m\u001b[0;34m,\u001b[0m\u001b[0mres\u001b[0m\u001b[0;34m)\u001b[0m\u001b[0;34m,\u001b[0m \u001b[0;36m0\u001b[0m\u001b[0;34m)\u001b[0m\u001b[0;34m\u001b[0m\u001b[0;34m\u001b[0m\u001b[0m\n\u001b[0m",
      "\u001b[0;31mNameError\u001b[0m: name 'rotate' is not defined"
     ]
    }
   ],
   "source": [
    "digits = [4, 5, 6, 7, 8]\n",
    "from collections import deque\n",
    "n = len(digits)\n",
    "res = [deque(digits) for _ in range(n)]\n",
    "check = deque(digits)\n",
    "print(check)\n",
    "check.rotate(-1)\n",
    "print(check)\n",
    "res = [deque(digits) for _ in range(n)]\n",
    "deque(map(rotate,res), 0)"
   ]
  },
  {
   "cell_type": "code",
   "execution_count": 35,
   "metadata": {},
   "outputs": [
    {
     "name": "stdout",
     "output_type": "stream",
     "text": [
      "deque(['h', 'e', 'l', 'l', 'o'])\n",
      "deque(['l', 'l', 'o', 'h', 'e'])\n"
     ]
    }
   ],
   "source": [
    "d = deque(\"hello\")\n",
    "print(d)\n",
    "d.rotate(-2)\n",
    "print(d)"
   ]
  },
  {
   "cell_type": "code",
   "execution_count": 42,
   "metadata": {},
   "outputs": [
    {
     "data": {
      "text/plain": [
       "[deque([4, 5, 6, 7, 8]),\n",
       " deque([5, 6, 7, 8, 4]),\n",
       " deque([6, 7, 8, 4, 5]),\n",
       " deque([7, 8, 4, 5, 6]),\n",
       " deque([8, 4, 5, 6, 7])]"
      ]
     },
     "metadata": {},
     "output_type": "display_data"
    }
   ],
   "source": [
    "digits = [4, 5, 6, 7, 8]\n",
    "from collections import deque\n",
    "n = len(digits)\n",
    "res = [deque(digits) for _ in range(n)]\n",
    "deque(map(lambda x:res[x].rotate(-x),range(n)),0)\n",
    "display(list(res))"
   ]
  },
  {
   "cell_type": "code",
   "execution_count": 51,
   "metadata": {},
   "outputs": [
    {
     "name": "stdout",
     "output_type": "stream",
     "text": [
      "[deque([4, 5, 6, 7, 8]), deque([5, 6, 7, 8, 4]), deque([6, 7, 8, 4, 5]), deque([7, 8, 4, 5, 6]), deque([8, 4, 5, 6, 7])]\n"
     ]
    }
   ],
   "source": [
    "#alternate sensible solution: \n",
    "digits = [4, 5, 6, 7, 8]\n",
    "from collections import deque\n",
    "n = len(digits)\n",
    "res = [deque(digits) for _ in range(n)]\n",
    "for x in range(n):\n",
    "    [res[x].rotate(-x)]\n",
    "print(res)"
   ]
  },
  {
   "cell_type": "code",
   "execution_count": null,
   "metadata": {},
   "outputs": [],
   "source": [
    "#final solution: understood from comments section. Wasn't able to crack it in the required format. \n",
    "from collections import deque\n",
    "\n",
    "def doodledPassword(digits):\n",
    "    n = len(digits)\n",
    "    res = [deque(digits) for _ in range(n)]\n",
    "    deque(map(lambda x:res[x].rotate(-x),range(n)), 0)\n",
    "    return [list(d) for d in res]\n"
   ]
  },
  {
   "cell_type": "code",
   "execution_count": null,
   "metadata": {},
   "outputs": [],
   "source": [
    "# Implement the missing code, denoted by ellipses. You may not modify the pre-existing code.\n",
    "\n",
    "# You've recently read \"The Gold-Bug\" by Edgar Allan Poe, and was so impressed by the cryptogram in it that decided to try and decipher an encrypted text yourself. You asked your friend to encode a piece of text using a substitution cipher, and now have an encryptedText that you'd like to decipher.\n",
    "\n",
    "# The encryption process in the story you read involves frequency analysis: it is known that letter 'e' is the most frequent one in the English language, so it's pretty safe to assume that the most common character in the encryptedText stands for 'e'. To begin with, implement a function that will find the most frequent character in the given encryptedText.\n",
    "\n",
    "# Example\n",
    "\n",
    "# For encryptedText = \"$~NmiNmim$/NVeirp@dlzrCCCCfFfQQQ\",\n",
    "# the output should be\n",
    "# frequencyAnalysis(encryptedText) = 'C'.\n",
    "\n",
    "# Letter 'C' appears in the text more than any other character (4 times), which is why it is the answer.\n",
    "\n",
    "from collections import Counter\n",
    "\n",
    "def frequencyAnalysis(encryptedText):\n",
    "    return ...\n"
   ]
  },
  {
   "cell_type": "code",
   "execution_count": 58,
   "metadata": {},
   "outputs": [
    {
     "name": "stdout",
     "output_type": "stream",
     "text": [
      "C\n"
     ]
    }
   ],
   "source": [
    "# https://stackoverflow.com/questions/4131123/finding-the-most-frequent-character-in-a-string\n",
    "encryptedText = \"$~NmiNmim$/NVeirp@dlzrCCCCfFfQQQ\"\n",
    "import collections\n",
    "print(collections.Counter(encryptedText).most_common(1)[0][0])"
   ]
  },
  {
   "cell_type": "code",
   "execution_count": null,
   "metadata": {},
   "outputs": [],
   "source": [
    "from collections import Counter\n",
    "\n",
    "def frequencyAnalysis(encryptedText):\n",
    "    return Counter(encryptedText).most_common(1)[0][0]\n"
   ]
  }
 ],
 "metadata": {
  "kernelspec": {
   "display_name": "Python 3",
   "language": "python",
   "name": "python3"
  },
  "language_info": {
   "codemirror_mode": {
    "name": "ipython",
    "version": 3
   },
   "file_extension": ".py",
   "mimetype": "text/x-python",
   "name": "python",
   "nbconvert_exporter": "python",
   "pygments_lexer": "ipython3",
   "version": "3.8.3"
  },
  "varInspector": {
   "cols": {
    "lenName": 16,
    "lenType": 16,
    "lenVar": 40
   },
   "kernels_config": {
    "python": {
     "delete_cmd_postfix": "",
     "delete_cmd_prefix": "del ",
     "library": "var_list.py",
     "varRefreshCmd": "print(var_dic_list())"
    },
    "r": {
     "delete_cmd_postfix": ") ",
     "delete_cmd_prefix": "rm(",
     "library": "var_list.r",
     "varRefreshCmd": "cat(var_dic_list()) "
    }
   },
   "types_to_exclude": [
    "module",
    "function",
    "builtin_function_or_method",
    "instance",
    "_Feature"
   ],
   "window_display": false
  }
 },
 "nbformat": 4,
 "nbformat_minor": 2
}
