{
 "cells": [
  {
   "cell_type": "markdown",
   "metadata": {},
   "source": [
    "1. Cyclic Name"
   ]
  },
  {
   "cell_type": "code",
   "execution_count": null,
   "metadata": {},
   "outputs": [],
   "source": []
  },
  {
   "cell_type": "code",
   "execution_count": null,
   "metadata": {},
   "outputs": [],
   "source": [
    "# Implement the missing code, denoted by ellipses. You may not modify the pre-existing code.\n",
    "\n",
    "# You've come up with a really cool name for your future startup company, and already have an idea about its logo. This logo will represent a circle, with the prefix of a cyclic string formed by the company name written around it.\n",
    "\n",
    "# The length n of the prefix you need to take depends on the size of the logo. You haven't yet decided on it, so you'd like to try out various options. Given the name of your company, return the prefix of the corresponding cyclic string containing n characters.\n",
    "\n",
    "# Example\n",
    "\n",
    "# For name = \"nicecoder\" and n = 15, the output should be\n",
    "# cyclicName(name, n) = \"nicecoderniceco\".\n",
    "\n",
    "# Input/Output\n",
    "\n",
    "#     [execution time limit] 4 seconds (py3)\n",
    "\n",
    "#     [input] string name\n",
    "\n",
    "#     The name of your future startup.\n",
    "\n",
    "#     Guaranteed constraints:\n",
    "#     1 ≤ name.length ≤ 20.\n",
    "\n",
    "#     [input] integer n\n",
    "\n",
    "#     The length of the cyclic string prefix.\n",
    "\n",
    "#     Guaranteed constraints:\n",
    "#     name.length ≤ n ≤ 50.\n",
    "\n",
    "#     [output] string\n",
    "\n",
    "#     Prefix of size n of the cyclic string formed by name.\n"
   ]
  },
  {
   "cell_type": "code",
   "execution_count": 78,
   "metadata": {},
   "outputs": [
    {
     "data": {
      "text/plain": [
       "'nicecoderniceco'"
      ]
     },
     "execution_count": 78,
     "metadata": {},
     "output_type": "execute_result"
    }
   ],
   "source": [
    "name = \"nicecoder\"\n",
    "n = 15\n",
    "\n",
    "15 // 7\n",
    "\n",
    "(name * ((n//len(name)) + 1))[:n]\n",
    "gen = (name * ((n//len(name)) + 1))[:n]\n",
    "\n",
    "gen"
   ]
  },
  {
   "cell_type": "code",
   "execution_count": 83,
   "metadata": {},
   "outputs": [
    {
     "data": {
      "text/plain": [
       "'nicecoderniceco'"
      ]
     },
     "execution_count": 83,
     "metadata": {},
     "output_type": "execute_result"
    }
   ],
   "source": [
    "#now with some itertools function\n",
    "\n",
    "from itertools import islice,cycle\n",
    "\n",
    "name = \"nicecoder\"\n",
    "n = 15\n",
    "\n",
    "''.join(list(islice(cycle(name),n)))\n",
    "\n",
    "#help: https://stackoverflow.com/questions/63955532/repeat-array-until-certain-length"
   ]
  },
  {
   "cell_type": "code",
   "execution_count": 28,
   "metadata": {},
   "outputs": [],
   "source": [
    "from itertools import islice,cycle\n",
    "\n",
    "def cyclicName(name, n):\n",
    "    gen = islice(cycle(name),n)\n",
    "    res = [next(gen) for _ in range(n)]\n",
    "    return ''.join(res)"
   ]
  },
  {
   "cell_type": "markdown",
   "metadata": {},
   "source": [
    "2. Memory Pills"
   ]
  },
  {
   "cell_type": "code",
   "execution_count": null,
   "metadata": {},
   "outputs": [],
   "source": [
    "# Not long ago Greg noticed that he started to forget things, and hurried to the doctor. The doc told him that it was perfectly normal for his age, and wrote down a list of pills that Greg can take in order to improve his memory. He especially recommended one medicine as the most effective one.\n",
    "# # \n",
    "# Unfortunately Greg forgot which medicine is the most effective, and he feels like he really needs to take them. Greg recalls that the name of the most effective medicine goes in the list somewhere after the very first name that has an even length. Your task is to help Greg: given the list of the pills, return a list of three names that go right after the very first medicine name of the even length.\n",
    "\n",
    "# If there are less than three medicines to return, return empty strings instead of them.\n",
    "\n",
    "# Example\n",
    "\n",
    "# For pills = [\"Notforgetan\", \"Antimoron\", \"Rememberin\", \"Bestmedicen\", \"Superpillsus\"],\n",
    "# the output should be\n",
    "# memoryPills(pills) = [\"Bestmedicen\", \"Superpillsus\", \"\"].\n",
    "\n",
    "from itertools import ...\n",
    "\n",
    "def memoryPills(pills):\n",
    "    gen = ...\n",
    "    next(gen)\n",
    "    return [next(gen) for _ in range(3)]"
   ]
  },
  {
   "cell_type": "code",
   "execution_count": 29,
   "metadata": {},
   "outputs": [],
   "source": [
    "pills = [\"Notforgetan\", \"Antimoron\", \"Rememberin\", \"Bestmedicen\", \"Superpillsus\"]\n",
    "list(map(len,pills))\n",
    "\n",
    "[len(x) % 2 == 0 for x in pills]\n",
    "\n",
    "min([i for i in range(len(pills)) if len(pills[i]) % 2 == 0])\n",
    "\n",
    "gen = [pills[j] for j in range(min([i for i in range(len(pills)) if len(pills[i]) % 2 == 0]) + 1,len(pills))]\n"
   ]
  },
  {
   "cell_type": "code",
   "execution_count": 7,
   "metadata": {},
   "outputs": [
    {
     "data": {
      "text/plain": [
       "'Superpillsus'"
      ]
     },
     "execution_count": 7,
     "metadata": {},
     "output_type": "execute_result"
    }
   ],
   "source": [
    "#drop until condition is met \n",
    "pills = [\"Notforgetan\", \"Antimoron\", \"Rememberin\", \"Bestmedicen\", \"Superpillsus\"]\n",
    "from itertools import dropwhile\n",
    "gen = (dropwhile(lambda x: len(x) % 2 == 1,pills))\n",
    "next(gen)\n",
    "next(gen)\n",
    "next(gen)\n"
   ]
  },
  {
   "cell_type": "code",
   "execution_count": 16,
   "metadata": {},
   "outputs": [
    {
     "data": {
      "text/plain": [
       "['Bestmedicen', 'Superpillsus', '']"
      ]
     },
     "execution_count": 16,
     "metadata": {},
     "output_type": "execute_result"
    }
   ],
   "source": [
    "from itertools import dropwhile\n",
    "\n",
    "def memoryPills(pills):\n",
    "    gen = dropwhile(lambda x:len(x) % 2 == 1,pills + [\"\"] * 3) \n",
    "    next(gen)\n",
    "    return [next(gen) for _ in range(3)]\n",
    "\n",
    "memoryPills([\"Notforgetan\", \"Antimoron\", \"Rememberin\", \"Bestmedicen\", \"Superpillsus\"])\n"
   ]
  },
  {
   "cell_type": "code",
   "execution_count": 12,
   "metadata": {},
   "outputs": [
    {
     "data": {
      "text/plain": [
       "['Notforgetan', 'Antimoron', 'Rememberin', 'Bestmedicen', 'Superpillsus']"
      ]
     },
     "execution_count": 12,
     "metadata": {},
     "output_type": "execute_result"
    }
   ],
   "source": [
    "pills"
   ]
  },
  {
   "cell_type": "code",
   "execution_count": 15,
   "metadata": {},
   "outputs": [
    {
     "data": {
      "text/plain": [
       "['Notforgetan',\n",
       " 'Antimoron',\n",
       " 'Rememberin',\n",
       " 'Bestmedicen',\n",
       " 'Superpillsus',\n",
       " '',\n",
       " '',\n",
       " '']"
      ]
     },
     "execution_count": 15,
     "metadata": {},
     "output_type": "execute_result"
    }
   ],
   "source": [
    "pills + [\"\"] * 3"
   ]
  },
  {
   "cell_type": "code",
   "execution_count": null,
   "metadata": {},
   "outputs": [],
   "source": [
    "#phew finallyyyy!\n",
    "from itertools import dropwhile\n",
    "\n",
    "def memoryPills(pills):\n",
    "    gen = dropwhile(lambda x:len(x) % 2 == 1,pills + [\"\"] * 3)\n",
    "    next(gen)\n",
    "    return [next(gen) for _ in range(3)]\n"
   ]
  },
  {
   "cell_type": "markdown",
   "metadata": {},
   "source": [
    "3. Float Range"
   ]
  },
  {
   "cell_type": "code",
   "execution_count": null,
   "metadata": {},
   "outputs": [],
   "source": [
    "# Implement the missing code, denoted by ellipses. You may not modify the pre-existing code.\n",
    "\n",
    "# As you may know, the range function in Python allows coders to iterate over elements from start to stop with the given step. Unfortunately it works only for integer values, and additional libraries should be used if a programmer wants to use float values.\n",
    "\n",
    "# CodeSignal doesn't include third-party libraries, so you have to make do with the standard ones. Given float numbers start, stop and step, your task is to return a list of values from start to stop (including start and not including stop), evenly spaced by the step.\n",
    "\n",
    "# Values start, stop and step have at most 5 digits after the decimal point each.\n",
    "\n",
    "# Example\n",
    "\n",
    "# For start = -0.9, stop = 0.45, and step = 0.2,\n",
    "# the output should be\n",
    "# floatRange(start, stop, step) = [-0.9, -0.7, -0.5, -0.3, -0.1, 0.1, 0.3].\n",
    "\n",
    "from itertools import ...\n",
    "\n",
    "def floatRange(start, stop, step):\n",
    "    gen = ...\n",
    "    return list(gen)\n",
    "\n"
   ]
  },
  {
   "cell_type": "code",
   "execution_count": 5,
   "metadata": {},
   "outputs": [
    {
     "data": {
      "text/plain": [
       "[-0.9,\n",
       " -0.7,\n",
       " -0.49999999999999994,\n",
       " -0.29999999999999993,\n",
       " -0.09999999999999992,\n",
       " 0.10000000000000009,\n",
       " 0.3000000000000001]"
      ]
     },
     "execution_count": 5,
     "metadata": {},
     "output_type": "execute_result"
    }
   ],
   "source": [
    "start = -0.9\n",
    "stop = 0.45\n",
    "step = 0.2\n",
    "\n",
    "from itertools import count,takewhile\n",
    "\n",
    "list(takewhile(lambda x:x<stop,count(start,step))) #https://stackoverflow.com/questions/7267226/range-for-floats\n",
    "\n"
   ]
  },
  {
   "cell_type": "code",
   "execution_count": 2,
   "metadata": {},
   "outputs": [],
   "source": [
    "from itertools import takewhile,count\n",
    "\n",
    "def floatRange(start, stop, step):\n",
    "    gen = takewhile(lambda x:x < stop,count(start,step))\n",
    "    return list(gen)\n",
    " # I dont fully understand how lambda is working here. todo. "
   ]
  },
  {
   "cell_type": "markdown",
   "metadata": {},
   "source": [
    "Python Count is an infinite iterator "
   ]
  },
  {
   "cell_type": "markdown",
   "metadata": {},
   "source": [
    "4. Rock Paper Scissors"
   ]
  },
  {
   "cell_type": "code",
   "execution_count": null,
   "metadata": {},
   "outputs": [],
   "source": [
    "# Implement the missing code, denoted by ellipses. You may not modify the pre-existing code.\n",
    "\n",
    "# The greatest ever Rock-Paper-Scissors Championship will take place in your town! The best players will battle each other to see who's the best player in the world. Each player will compete against each other player twice, once home and once away.\n",
    "\n",
    "# Given the list of the players, your task is to come up with the list of all the games between them, and return them sorted lexicographically.\n",
    "\n",
    "# Example\n",
    "\n",
    "# For players = [\"trainee\", \"warrior\", \"ninja\"], the output should be\n",
    "\n",
    "# rockPaperScissors(players) = [[\"ninja\", \"trainee\"], [\"ninja\", \"warrior\"], \n",
    "#                               [\"trainee\", \"ninja\"], [\"trainee\", \"warrior\"], \n",
    "#                               [\"warrior\", \"ninja\"], [\"warrior\", \"trainee\"]]\n",
    "\n",
    "# Input/Output\n",
    "\n",
    "#     [execution time limit] 4 seconds (py3)\n",
    "\n",
    "#     [input] array.string players\n",
    "\n",
    "#     A list of distinct players, where each player is given by their nickname that can consist of English letters and whitespace characters.\n",
    "\n",
    "#     Guaranteed constraints:\n",
    "#     2 ≤ players.length ≤ 10,\n",
    "#     1 ≤ players[i].length ≤ 50.\n",
    "\n",
    "#     [output] array.array.string\n",
    "\n",
    "#     Array of pairs of players that will play against one another sorted lexicographically.\n",
    "\n",
    "#     Note: if your solution returns a list of tuples, the tuples will be converted to list automatically.\n",
    "\n",
    "from itertools import ...\n",
    "\n",
    "def rockPaperScissors(players):\n",
    "    return ..."
   ]
  },
  {
   "cell_type": "code",
   "execution_count": 3,
   "metadata": {},
   "outputs": [
    {
     "data": {
      "text/plain": [
       "[('ninja', 'trainee'),\n",
       " ('ninja', 'warrior'),\n",
       " ('trainee', 'ninja'),\n",
       " ('trainee', 'warrior'),\n",
       " ('warrior', 'ninja'),\n",
       " ('warrior', 'trainee')]"
      ]
     },
     "execution_count": 3,
     "metadata": {},
     "output_type": "execute_result"
    }
   ],
   "source": [
    "from itertools import permutations\n",
    "\n",
    "list(permutations([\"trainee\", \"warrior\", \"ninja\"],2))\n",
    "\n",
    "#sort\n",
    "sorted(list(permutations([\"trainee\", \"warrior\", \"ninja\"],2))\n",
    ")"
   ]
  },
  {
   "cell_type": "code",
   "execution_count": null,
   "metadata": {},
   "outputs": [],
   "source": [
    "from itertools import permutations\n",
    "\n",
    "def rockPaperScissors(players):\n",
    "    return sorted(permutations(players,2))"
   ]
  },
  {
   "cell_type": "markdown",
   "metadata": {},
   "source": [
    "5. Kth Permutation"
   ]
  },
  {
   "cell_type": "code",
   "execution_count": null,
   "metadata": {},
   "outputs": [],
   "source": [
    "# Implement the missing code, denoted by ellipses. You may not modify the pre-existing code.\n",
    "\n",
    "# You found your old bike in the attic, and would love to refresh your childhood memories and give it a ride. Unfortunately there is a chain lock on the bike, and the code is a permutation of a set of distinct numbers. Of course, you don't remember it after all these years.\n",
    "\n",
    "# You do remember, however, that the last time you picked up your bike you also couldn't remember the code, so had to run over all possible numbers permutations. Being a programmer, you tried them in the lexicographical order. It took you a couple of days, and in the first day you managed to check k - 1 permutations.\n",
    "\n",
    "# Now that you need to open the lock again, you can start checking the permutations from the kth one. Given the list of numbers, return the kth (1-based) permutation that you should begin with.\n",
    "\n",
    "# Example\n",
    "\n",
    "# For numbers = [1, 2, 3, 4, 5] and k = 4, the output should be\n",
    "# kthPermutation(numbers, k) = [1, 2, 4, 5, 3].\n",
    "\n",
    "# Here are the first 4 permutations:\n",
    "\n",
    "#     [1, 2, 3, 4, 5]\n",
    "#     [1, 2, 3, 5, 4]\n",
    "#     [1, 2, 4, 3, 5]\n",
    "#     [1, 2, 4, 5, 3]\n",
    "\n",
    "# Input/Output\n",
    "\n",
    "#     [execution time limit] 4 seconds (py3)\n",
    "\n",
    "#     [input] array.integer numbers\n",
    "\n",
    "#     A sorted list of distinct integers.\n",
    "\n",
    "#     Guaranteed constraints:\n",
    "#     2 ≤ numbers.length ≤ 10,\n",
    "#     1 ≤ numbers[i] ≤ 1000.\n",
    "\n",
    "#     [input] integer k\n",
    "\n",
    "#     The 1-based index of the first permutation that you should try.\n",
    "\n",
    "#     Guaranteed constraints:\n",
    "#     1 ≤ k ≤ numbers.length!.\n",
    "\n",
    "#     [output] array.integer\n",
    "\n",
    "#     The kth permutation of numbers.\n",
    "\n",
    "#     Note: if your solution returns a tuple, it will be converted to list automatically.\n",
    "        \n",
    "from itertools import ...\n",
    "\n",
    "def kthPermutation(numbers, k):\n",
    "    return ...\n"
   ]
  },
  {
   "cell_type": "code",
   "execution_count": 6,
   "metadata": {},
   "outputs": [
    {
     "data": {
      "text/plain": [
       "(1, 2, 4, 5, 3)"
      ]
     },
     "execution_count": 6,
     "metadata": {},
     "output_type": "execute_result"
    }
   ],
   "source": [
    "numbers = [1, 2, 3, 4, 5]\n",
    "from itertools import permutations\n",
    "\n",
    "list(permutations(numbers))[3]"
   ]
  },
  {
   "cell_type": "code",
   "execution_count": null,
   "metadata": {},
   "outputs": [],
   "source": [
    "from itertools import permutations\n",
    "\n",
    "def kthPermutation(numbers, k):\n",
    "    return list(permutations(numbers))[k-1]"
   ]
  },
  {
   "cell_type": "markdown",
   "metadata": {},
   "source": [
    "6. Crazyball"
   ]
  },
  {
   "cell_type": "code",
   "execution_count": null,
   "metadata": {},
   "outputs": [],
   "source": [
    "# Implement the missing code, denoted by ellipses. You may not modify the pre-existing code.\n",
    "\n",
    "# You've been training your whole life, and now your dreams finally came true: you are a member of the best Crazyball team in the world! Unfortunately since your team is one of only two teams that play Crazyball, there are already many players in it, including yourself. For the starting lineup on the upcoming game the coach will pick k players, and you're curious if it's possible for you to make it there.\n",
    "\n",
    "# To calculate the odds of being a starter, you'd like to come up with a list of all possible lineups. Given the list of the players and the number of players k the coach has to pick, return all possible lineups sorted lexicographically. Players in each lineup should also be sorted lexicographically.\n",
    "\n",
    "# Example\n",
    "\n",
    "# For players = [\"Ninja\", \"Warrior\", \"Trainee\", \"Newbie\"] and k = 3,\n",
    "# the output should be\n",
    "\n",
    "# crazyball(players, k) = [[\"Newbie\", \"Ninja\", \"Trainee\"], \n",
    "#                          [\"Newbie\", \"Ninja\", \"Warrior\"], \n",
    "#                          [\"Newbie\", \"Trainee\", \"Warrior\"], \n",
    "#                          [\"Ninja\", \"Trainee\", \"Warrior\"]]\n",
    "\n",
    "# Input/Output\n",
    "\n",
    "#     [execution time limit] 4 seconds (py3)\n",
    "\n",
    "#     [input] array.string players\n",
    "\n",
    "#     Array of distinct strings, where each string is player name. Each name may consist of English letters and whitespace characters.\n",
    "\n",
    "#     Guaranteed constraints:\n",
    "#     1 ≤ players.length ≤ 10,\n",
    "#     2 ≤ players[i].length ≤ 15.\n",
    "\n",
    "#     [input] integer k\n",
    "\n",
    "#     The number of players the coach should pick for the lineup.\n",
    "\n",
    "#     Guaranteed constraints:\n",
    "#     1 ≤ k ≤ players.length.\n",
    "\n",
    "#     [output] array.array.string\n",
    "\n",
    "#     Array of all possible lineups sorted as described above.\n",
    "\n",
    "from itertools import ...\n",
    "\n",
    "def crazyball(players, k):\n",
    "    return ..."
   ]
  },
  {
   "cell_type": "code",
   "execution_count": 8,
   "metadata": {},
   "outputs": [
    {
     "data": {
      "text/plain": [
       "[('Newbie', 'Ninja', 'Trainee'),\n",
       " ('Newbie', 'Ninja', 'Warrior'),\n",
       " ('Newbie', 'Trainee', 'Warrior'),\n",
       " ('Ninja', 'Trainee', 'Warrior')]"
      ]
     },
     "execution_count": 8,
     "metadata": {},
     "output_type": "execute_result"
    }
   ],
   "source": [
    "players = [\"Ninja\", \"Warrior\", \"Trainee\", \"Newbie\"]\n",
    "k = 3\n",
    "\n",
    "sorted(players)\n",
    "\n",
    "from itertools import combinations\n",
    "list(combinations(sorted(players),3))"
   ]
  },
  {
   "cell_type": "code",
   "execution_count": null,
   "metadata": {},
   "outputs": [],
   "source": [
    "from itertools import combinations\n",
    "\n",
    "def crazyball(players, k):\n",
    "    return list(combinations(sorted(players),k))\n"
   ]
  },
  {
   "cell_type": "code",
   "execution_count": null,
   "metadata": {},
   "outputs": [],
   "source": [
    "# Implement the missing code, denoted by ellipses. You may not modify the pre-existing code.\n",
    "\n",
    "# You've been trying to crack the password from your friend's laptop (just to prank him, malicious intent!), but with no luck. However, looks like you're finally up to something: you checked the keyboard with the \"little detective\" game set and determined that the password consists of a limited set of digits.\n",
    "\n",
    "# You've seen your friend typing the password quite a few times, and are now sure that it consists of k digits. You also know that he is very superstitious and believes in the power of number d, so the password is apt to be divisible by it.\n",
    "\n",
    "# Given the digits that comprise the password, its length k and the number d by which it is divisible, return a sorted list of strings that should be tried as passwords.\n",
    "\n",
    "# Example\n",
    "\n",
    "# For digits = [1, 5, 2], k = 2, and d = 3,\n",
    "# the output should be\n",
    "# crackingPassword(digits, k, d) = [\"12\", \"15\", \"21\", \"51\"].\n",
    "\n",
    "# Here are all the numbers of length 2: 11, 15, 12, 51, 55, 52, 21, 25 and 22. Only four of them are divisible by 3, and they comprise the answer.\n",
    "\n",
    "# Input/Output\n",
    "\n",
    "#     [execution time limit] 4 seconds (py3)\n",
    "\n",
    "#     [input] array.integer digits\n",
    "\n",
    "#     Array of distinct digits.\n",
    "\n",
    "#     Guaranteed constraints:\n",
    "#     1 ≤ digits.length ≤ 10,\n",
    "#     0 ≤ digits[i] ≤ 9.\n",
    "\n",
    "#     [input] integer k\n",
    "\n",
    "#     The number of digits in the password.\n",
    "\n",
    "#     Guaranteed constraints:\n",
    "#     1 ≤ k ≤ 9.\n",
    "\n",
    "#     [input] integer d\n",
    "\n",
    "#     The lucky number by which the password should be divisible.\n",
    "\n",
    "#     Guaranteed constraints:\n",
    "#     1 ≤ d ≤ 300.\n",
    "\n",
    "#     [output] array.string\n",
    "\n",
    "#     A sorted list of strings that should be tested as passwords.\n",
    "\n",
    "from itertools import ...\n",
    "\n",
    "def crackingPassword(digits, k, d):\n",
    "    def createNumber(digs):\n",
    "        return \"\".join(map(str, digs))\n",
    "\n",
    "    return ...\n"
   ]
  },
  {
   "cell_type": "code",
   "execution_count": 10,
   "metadata": {},
   "outputs": [
    {
     "data": {
      "text/plain": [
       "None"
      ]
     },
     "metadata": {},
     "output_type": "display_data"
    }
   ],
   "source": [
    "def crackingPassword(digits, k, d):\n",
    "    def createNumber(digs):\n",
    "        return \"\".join(map(str, digs))\n",
    "    return\n"
   ]
  },
  {
   "cell_type": "code",
   "execution_count": 12,
   "metadata": {},
   "outputs": [
    {
     "data": {
      "text/plain": [
       "[15, 12, 51, 21]"
      ]
     },
     "execution_count": 12,
     "metadata": {},
     "output_type": "execute_result"
    }
   ],
   "source": [
    "from itertools import permutations\n",
    "\n",
    "digits = [1, 5, 2]\n",
    "k = 2\n",
    "d = 3\n",
    "def createNumber(digs):\n",
    "    return \"\".join(map(str, digs))\n",
    "\n",
    "list(permutations(createNumber(digits),2))\n",
    "\n",
    "list(map(createNumber,list(permutations(createNumber(digits),2))))\n",
    "\n",
    "finallist = list(map(int,list(map(createNumber,list(permutations(createNumber(digits),2))))))\n",
    "\n",
    "[x for x in finallist if (x % d) == 0]"
   ]
  },
  {
   "cell_type": "code",
   "execution_count": 23,
   "metadata": {},
   "outputs": [
    {
     "data": {
      "text/plain": [
       "[15, 12, 51, 21]"
      ]
     },
     "execution_count": 23,
     "metadata": {},
     "output_type": "execute_result"
    }
   ],
   "source": [
    "#now simplify \n",
    "\n",
    "[x for x in map(int,map(createNumber,(permutations(digits,k)))) if (x % d) == 0] \n",
    "\n"
   ]
  },
  {
   "cell_type": "code",
   "execution_count": 27,
   "metadata": {},
   "outputs": [
    {
     "data": {
      "text/plain": [
       "['0000',\n",
       " '0364',\n",
       " '0403',\n",
       " '0663',\n",
       " '3003',\n",
       " '3406',\n",
       " '3640',\n",
       " '3666',\n",
       " '4004',\n",
       " '4030',\n",
       " '4043',\n",
       " '4303',\n",
       " '4433',\n",
       " '4446',\n",
       " '6006',\n",
       " '6344',\n",
       " '6604',\n",
       " '6630',\n",
       " '6643']"
      ]
     },
     "execution_count": 27,
     "metadata": {},
     "output_type": "execute_result"
    }
   ],
   "source": [
    "#what the problem is looking for is permutations with repetitions, for which cartesian product is the required function\n",
    "\n",
    "from itertools import product\n",
    "\n",
    "digits = [4, 6, 0, 3]\n",
    "k = 4\n",
    "d = 13\n",
    "\n",
    "[x for x in map(int,map(createNumber,(product(digits,repeat=k)))) if (x % d) == 0] \n",
    "\n",
    "#problem also wants output as string :|\n",
    "\n",
    "[x for x in map(createNumber,(product(digits,repeat=k))) if (int(x) % d) == 0] \n",
    "\n",
    "#problem also wants sorted list \n",
    "\n",
    "sorted([x for x in map(createNumber,(product(digits,repeat=k))) if (int(x) % d) == 0])"
   ]
  },
  {
   "cell_type": "code",
   "execution_count": null,
   "metadata": {},
   "outputs": [],
   "source": [
    "#final solution\n",
    "from itertools import product\n",
    "\n",
    "def crackingPassword(digits, k, d):\n",
    "    def createNumber(digs):\n",
    "        return \"\".join(map(str, digs))\n",
    "\n",
    "    return sorted([x for x in map(createNumber,(product(digits,repeat=k))) if (int(x) % d) == 0])\n"
   ]
  }
 ],
 "metadata": {
  "kernelspec": {
   "display_name": "Python 3",
   "language": "python",
   "name": "python3"
  },
  "language_info": {
   "codemirror_mode": {
    "name": "ipython",
    "version": 3
   },
   "file_extension": ".py",
   "mimetype": "text/x-python",
   "name": "python",
   "nbconvert_exporter": "python",
   "pygments_lexer": "ipython3",
   "version": "3.8.3"
  }
 },
 "nbformat": 4,
 "nbformat_minor": 4
}
